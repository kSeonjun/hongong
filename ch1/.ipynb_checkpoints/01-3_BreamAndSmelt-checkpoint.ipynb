{
 "cells": [
  {
   "cell_type": "code",
   "execution_count": 5,
   "id": "cab9ab87-032e-4349-98b6-d03eff6c595c",
   "metadata": {},
   "outputs": [],
   "source": [
    "import pandas as pd\n",
    "import matplotlib.pyplot as plt"
   ]
  },
  {
   "cell_type": "markdown",
   "id": "fbb8b144-7222-47d5-bd70-017d6702fcdb",
   "metadata": {},
   "source": [
    "# 도미"
   ]
  },
  {
   "cell_type": "code",
   "execution_count": 6,
   "id": "ad85b10f-c92c-4f42-9341-7c3b10e86999",
   "metadata": {},
   "outputs": [],
   "source": [
    "df = pd.read_csv('./../csv/Fish.csv')"
   ]
  },
  {
   "cell_type": "code",
   "execution_count": 7,
   "id": "317d0d0d-336b-4b04-8ef8-c6920a562063",
   "metadata": {},
   "outputs": [],
   "source": [
    "bream_length = df['Length2'][:35]\n",
    "bream_weight = df['Weight'][:35]"
   ]
  },
  {
   "cell_type": "code",
   "execution_count": 8,
   "id": "8fbb8ba9-5ef3-424d-9d74-3bc2b567326c",
   "metadata": {},
   "outputs": [
    {
     "data": {
      "text/plain": [
       "0      242.0\n",
       "1      290.0\n",
       "2      340.0\n",
       "3      363.0\n",
       "4      430.0\n",
       "5      450.0\n",
       "6      500.0\n",
       "7      390.0\n",
       "8      450.0\n",
       "9      500.0\n",
       "10     475.0\n",
       "11     500.0\n",
       "12     500.0\n",
       "13     340.0\n",
       "14     600.0\n",
       "15     600.0\n",
       "16     700.0\n",
       "17     700.0\n",
       "18     610.0\n",
       "19     650.0\n",
       "20     575.0\n",
       "21     685.0\n",
       "22     620.0\n",
       "23     680.0\n",
       "24     700.0\n",
       "25     725.0\n",
       "26     720.0\n",
       "27     714.0\n",
       "28     850.0\n",
       "29    1000.0\n",
       "30     920.0\n",
       "31     955.0\n",
       "32     925.0\n",
       "33     975.0\n",
       "34     950.0\n",
       "Name: Weight, dtype: float64"
      ]
     },
     "execution_count": 8,
     "metadata": {},
     "output_type": "execute_result"
    }
   ],
   "source": [
    "bream_length\n",
    "bream_weight"
   ]
  },
  {
   "cell_type": "code",
   "execution_count": 9,
   "id": "d5064c38-e568-44d1-b6ba-e93974946ca6",
   "metadata": {},
   "outputs": [
    {
     "data": {
      "image/png": "[encoded data removed]",
      "text/plain": [
       "<Figure size 432x288 with 1 Axes>"
      ]
     },
     "metadata": {
      "needs_background": "light"
     },
     "output_type": "display_data"
    }
   ],
   "source": [
    "plt.scatter(bream_length, bream_weight)\n",
    "plt.xlabel('bream_length')\n",
    "plt.ylabel('bream_weight')\n",
    "plt.show()"
   ]
  },
  {
   "cell_type": "markdown",
   "id": "532bec2f-00f9-4b7e-953c-b7994d50e077",
   "metadata": {},
   "source": [
    "# 빙어\n",
    "\n",
    "혼공머신에서 제공"
   ]
  },
  {
   "cell_type": "code",
   "execution_count": 10,
   "id": "7de30b05-4bbd-46a2-9153-375c479e6247",
   "metadata": {},
   "outputs": [],
   "source": [
    "smelt_length = [9.8, 10.5, 10.6, 11.0, 11.2, 11.3, 11.8, 11.8, 12.0, 12.2, 12.4, 13.0, 14.3, 15.0]\n",
    "smelt_weight = [6.7, 7.5, 7.0, 9.7, 9.8, 8.7, 10.0, 9.9, 9.8, 12.2, 13.4, 12.2, 19.7, 19.9]"
   ]
  },
  {
   "cell_type": "code",
   "execution_count": 11,
   "id": "b6c1d9f5-07c5-446b-bc59-4de29f6b6a48",
   "metadata": {},
   "outputs": [
    {
     "data": {
      "image/png": "[encoded data removed]",
      "text/plain": [
       "<Figure size 432x288 with 1 Axes>"
      ]
     },
     "metadata": {
      "needs_background": "light"
     },
     "output_type": "display_data"
    }
   ],
   "source": [
    "plt.scatter(smelt_length, smelt_weight)\n",
    "plt.xlabel('length')\n",
    "plt.ylabel('weight')\n",
    "plt.show()"
   ]
  },
  {
   "cell_type": "markdown",
   "id": "137b8d9b-8765-4338-ac38-81e4a004cd58",
   "metadata": {},
   "source": [
    "# 빙어와 도미"
   ]
  },
  {
   "cell_type": "code",
   "execution_count": 12,
   "id": "12e62a50-05bf-4842-b0a7-99e2cdf4b915",
   "metadata": {},
   "outputs": [
    {
     "data": {
      "image/png": "[encoded data removed]",
      "text/plain": [
       "<Figure size 432x288 with 1 Axes>"
      ]
     },
     "metadata": {
      "needs_background": "light"
     },
     "output_type": "display_data"
    }
   ],
   "source": [
    "plt.scatter(bream_length, bream_weight)\n",
    "plt.scatter(smelt_length, smelt_weight)\n",
    "plt.xlabel('length')\n",
    "plt.ylabel('weight')\n",
    "plt.show()"
   ]
  },
  {
   "cell_type": "markdown",
   "id": "5d6659ec-a0fc-4f83-b486-8cad42a7ed74",
   "metadata": {},
   "source": [
    "* 길이가 길어지면 무게가 증가하는 선형적인 양상\n",
    "* 도미가 빙어보다 길이가 길고 무게가 무거운 모습\n",
    "* 길이와 무게의 비율이 도미가 더 가파르다"
   ]
  },
  {
   "cell_type": "markdown",
   "id": "c0337cd6-7edf-422b-a9ef-6f458b24c4f9",
   "metadata": {},
   "source": [
    "# 첫 번째 머신러닝 프로그램\n",
    "* scikit-learn(사이킷 런) 사용해야됨\n",
    "\n",
    "## k-Nearest Neighbors"
   ]
  },
  {
   "cell_type": "code",
   "execution_count": 13,
   "id": "5b11a3d1-9075-4924-a509-7cdbc7964d94",
   "metadata": {},
   "outputs": [],
   "source": [
    "from sklearn.neighbors import KNeighborsClassifier"
   ]
  },
  {
   "cell_type": "markdown",
   "id": "cc5a5c5d-5c08-4119-8494-98b7ac233368",
   "metadata": {},
   "source": [
    "* dataset"
   ]
  },
  {
   "cell_type": "code",
   "execution_count": 48,
   "id": "3d33e555-68c4-412a-9949-fb86e012b779",
   "metadata": {},
   "outputs": [],
   "source": [
    "length = list(bream_length) + list(smelt_length)\n",
    "weight = list(bream_weight) + list(bream_weight)"
   ]
  },
  {
   "cell_type": "code",
   "execution_count": 49,
   "id": "bc3d2b4d-3bd9-41c3-8dec-a6a3d222f3ab",
   "metadata": {},
   "outputs": [],
   "source": [
    "fish_data = [[l, w] for l, w in zip(length, weight)]"
   ]
  },
  {
   "cell_type": "code",
   "execution_count": 50,
   "id": "3879d4bd-c7b1-4b0c-a542-7659091414d1",
   "metadata": {},
   "outputs": [
    {
     "name": "stdout",
     "output_type": "stream",
     "text": [
      "[[25.4, 242.0], [26.3, 290.0], [26.5, 340.0], [29.0, 363.0], [29.0, 430.0], [29.7, 450.0], [29.7, 500.0], [30.0, 390.0], [30.0, 450.0], [30.7, 500.0], [31.0, 475.0], [31.0, 500.0], [31.5, 500.0], [32.0, 340.0], [32.0, 600.0], [32.0, 600.0], [33.0, 700.0], [33.0, 700.0], [33.5, 610.0], [33.5, 650.0], [34.0, 575.0], [34.0, 685.0], [34.5, 620.0], [35.0, 680.0], [35.0, 700.0], [35.0, 725.0], [35.0, 720.0], [36.0, 714.0], [36.0, 850.0], [37.0, 1000.0], [38.5, 920.0], [38.5, 955.0], [39.5, 925.0], [41.0, 975.0], [41.0, 950.0], [9.8, 242.0], [10.5, 290.0], [10.6, 340.0], [11.0, 363.0], [11.2, 430.0], [11.3, 450.0], [11.8, 500.0], [11.8, 390.0], [12.0, 450.0], [12.2, 500.0], [12.4, 475.0], [13.0, 500.0], [14.3, 500.0], [15.0, 340.0]]\n"
     ]
    }
   ],
   "source": [
    "print(fish_data)"
   ]
  },
  {
   "cell_type": "code",
   "execution_count": 51,
   "id": "3b7051b3-e2ed-4a2d-843f-311f8c858e42",
   "metadata": {},
   "outputs": [
    {
     "name": "stdout",
     "output_type": "stream",
     "text": [
      "도미: 35\n",
      "빙어: 14\n"
     ]
    }
   ],
   "source": [
    "print('도미:', len(bream_length))\n",
    "print('빙어:', len(smelt_length))"
   ]
  },
  {
   "cell_type": "code",
   "execution_count": 52,
   "id": "6e4bc4da-5b85-4ebf-9b0a-362461912ecd",
   "metadata": {},
   "outputs": [
    {
     "name": "stdout",
     "output_type": "stream",
     "text": [
      "[1, 1, 1, 1, 1, 1, 1, 1, 1, 1, 1, 1, 1, 1, 1, 1, 1, 1, 1, 1, 1, 1, 1, 1, 1, 1, 1, 1, 1, 1, 1, 1, 1, 1, 1, 0, 0, 0, 0, 0, 0, 0, 0, 0, 0, 0, 0, 0, 0]\n"
     ]
    }
   ],
   "source": [
    "fish_target = [1]*35 + [0]*14\n",
    "print(fish_target)"
   ]
  },
  {
   "cell_type": "markdown",
   "id": "c77b623f-801f-4ae1-a6e0-1f0833b5ba68",
   "metadata": {},
   "source": [
    "* model"
   ]
  },
  {
   "cell_type": "code",
   "execution_count": 53,
   "id": "9e671b0a-4384-4420-b7a4-9058276c97ae",
   "metadata": {},
   "outputs": [
    {
     "data": {
      "text/plain": [
       "KNeighborsClassifier()"
      ]
     },
     "execution_count": 53,
     "metadata": {},
     "output_type": "execute_result"
    }
   ],
   "source": [
    "kn = KNeighborsClassifier()\n",
    "kn.fit(fish_data, fish_target)"
   ]
  },
  {
   "cell_type": "code",
   "execution_count": 54,
   "id": "c9aab884-61c3-4c54-9b9a-4c4b44685254",
   "metadata": {},
   "outputs": [
    {
     "data": {
      "text/plain": [
       "1.0"
      ]
     },
     "execution_count": 54,
     "metadata": {},
     "output_type": "execute_result"
    }
   ],
   "source": [
    "kn.score(fish_data, fish_target)"
   ]
  },
  {
   "cell_type": "markdown",
   "id": "9673a675-7e12-4e3a-957e-c73153508ffa",
   "metadata": {},
   "source": [
    "* 데이터 입력"
   ]
  },
  {
   "cell_type": "code",
   "execution_count": 62,
   "id": "34ef6549-6336-4f10-bb85-68c0ea05aed0",
   "metadata": {},
   "outputs": [
    {
     "data": {
      "image/png": "[encoded data removed]",
      "text/plain": [
       "<Figure size 432x288 with 1 Axes>"
      ]
     },
     "metadata": {
      "needs_background": "light"
     },
     "output_type": "display_data"
    }
   ],
   "source": [
    "plt.scatter(bream_length, bream_weight)\n",
    "plt.scatter(smelt_length, smelt_weight)\n",
    "plt.scatter(30, 600, marker=\"^\")\n",
    "plt.xlabel('length')\n",
    "plt.ylabel('weight')\n",
    "plt.show()"
   ]
  },
  {
   "cell_type": "code",
   "execution_count": 63,
   "id": "1448d2fe-f844-4ef1-a90b-35b5ad6974ec",
   "metadata": {},
   "outputs": [
    {
     "data": {
      "text/plain": [
       "array([1])"
      ]
     },
     "execution_count": 63,
     "metadata": {},
     "output_type": "execute_result"
    }
   ],
   "source": [
    "kn.predict([[30, 600]])"
   ]
  },
  {
   "cell_type": "code",
   "execution_count": 59,
   "id": "ac500f46-3f2d-4e5a-bafd-377c0aa57518",
   "metadata": {},
   "outputs": [],
   "source": [
    "# print(kn._fit_X)\n",
    "# print(kn._y)"
   ]
  },
  {
   "cell_type": "code",
   "execution_count": 64,
   "id": "c667f75b-75a3-46d1-a86d-4b0d57310768",
   "metadata": {},
   "outputs": [
    {
     "name": "stdout",
     "output_type": "stream",
     "text": [
      "0.7142857142857143\n",
      "0.7142857142857143\n"
     ]
    }
   ],
   "source": [
    "kn49 = KNeighborsClassifier(n_neighbors=49)\n",
    "\n",
    "kn49.fit(fish_data, fish_target)\n",
    "print(kn49.score(fish_data, fish_target))\n",
    "\n",
    "print(35/49)"
   ]
  },
  {
   "cell_type": "markdown",
   "id": "b0d4397c-befc-4e06-a896-928cb48f8052",
   "metadata": {},
   "source": [
    "* 추가"
   ]
  },
  {
   "cell_type": "code",
   "execution_count": 68,
   "id": "abae1c61-ec9e-4f48-b229-e3f7d4eb5f29",
   "metadata": {},
   "outputs": [
    {
     "name": "stdout",
     "output_type": "stream",
     "text": [
      "6 0.9183673469387755\n"
     ]
    }
   ],
   "source": [
    "kn = KNeighborsClassifier()\n",
    "kn.fit(fish_data, fish_target)\n",
    "\n",
    "for n in range(5, 50):\n",
    "    # k-최근접 이웃 갯수 설정\n",
    "    kn.n_neighbors = n\n",
    "    # 점수 계산\n",
    "    score = kn.score(fish_data, fish_target)\n",
    "    # 정확도 100% 확인\n",
    "    if score < 1:\n",
    "        print(n, score)\n",
    "        break"
   ]
  },
  {
   "cell_type": "code",
   "execution_count": null,
   "id": "dda8dd2b-dec0-4747-867d-d5e9ae5f4021",
   "metadata": {},
   "outputs": [],
   "source": []
  }
 ],
 "metadata": {
  "kernelspec": {
   "display_name": "Python 3 (ipykernel)",
   "language": "python",
   "name": "python3"
  },
  "language_info": {
   "codemirror_mode": {
    "name": "ipython",
    "version": 3
   },
   "file_extension": ".py",
   "mimetype": "text/x-python",
   "name": "python",
   "nbconvert_exporter": "python",
   "pygments_lexer": "ipython3",
   "version": "3.9.7"
  }
 },
 "nbformat": 4,
 "nbformat_minor": 5
}
