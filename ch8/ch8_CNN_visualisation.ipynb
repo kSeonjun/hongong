{
 "cells": [
  {
   "cell_type": "code",
   "execution_count": 42,
   "id": "596e4414-e2a6-4630-b612-eb75adac0a9e",
   "metadata": {},
   "outputs": [],
   "source": [
    "from tensorflow import keras\n",
    "\n",
    "model = keras.models.load_model('best-cnn-model.h5')"
   ]
  },
  {
   "cell_type": "code",
   "execution_count": 43,
   "id": "d35fa571-4297-4174-a22e-2857b7abadfa",
   "metadata": {},
   "outputs": [
    {
     "data": {
      "text/plain": [
       "[<keras.src.layers.convolutional.conv2d.Conv2D at 0x7f8fb0835e80>,\n",
       " <keras.src.layers.pooling.max_pooling2d.MaxPooling2D at 0x7f8fb08352b0>,\n",
       " <keras.src.layers.convolutional.conv2d.Conv2D at 0x7f8fb08efe50>,\n",
       " <keras.src.layers.pooling.max_pooling2d.MaxPooling2D at 0x7f8fb08d7220>,\n",
       " <keras.src.layers.reshaping.flatten.Flatten at 0x7f8fb2e2b5e0>,\n",
       " <keras.src.layers.core.dense.Dense at 0x7f8fb2e2b790>,\n",
       " <keras.src.layers.regularization.dropout.Dropout at 0x7f8fb0919e20>,\n",
       " <keras.src.layers.core.dense.Dense at 0x7f8fb2e2d550>]"
      ]
     },
     "execution_count": 43,
     "metadata": {},
     "output_type": "execute_result"
    }
   ],
   "source": [
    "model.layers"
   ]
  },
  {
   "cell_type": "code",
   "execution_count": 44,
   "id": "1b000fe7-827a-4c4b-ade2-be1008e529ea",
   "metadata": {},
   "outputs": [
    {
     "name": "stdout",
     "output_type": "stream",
     "text": [
      "가중치 :  (3, 3, 1, 32) 절편 : (32,)\n"
     ]
    }
   ],
   "source": [
    "conv = model.layers[0]\n",
    "print('가중치 : ', conv.weights[0].shape, '절편 :',conv.weights[1].shape)"
   ]
  },
  {
   "cell_type": "code",
   "execution_count": 45,
   "id": "3ca05cff-53c4-44eb-a3b7-1c345684f1e6",
   "metadata": {},
   "outputs": [
    {
     "data": {
      "text/plain": [
       "[<tf.Variable 'conv2d_4/kernel:0' shape=(3, 3, 1, 32) dtype=float32, numpy=\n",
       " array([[[[-0.11354838,  0.17067724,  0.15621532,  0.08622666,\n",
       "           -0.26547945, -0.10153592, -1.2032112 , -0.05552715,\n",
       "            0.02914389,  0.23892692, -0.03726042, -0.33376333,\n",
       "            0.20895612, -0.01468507, -0.31415486,  0.08424354,\n",
       "            0.12878345,  0.292153  , -0.2701609 , -0.08740923,\n",
       "           -0.02454412,  0.21697567,  0.3212674 ,  0.28275186,\n",
       "            0.13380624,  0.06260303, -1.0682068 , -0.686872  ,\n",
       "           -0.3101281 ,  0.03950767, -0.06414823,  0.04864276]],\n",
       " \n",
       "         [[ 0.22484648,  0.16752131, -0.08455648, -0.03803469,\n",
       "            0.32196677, -0.08467313, -0.8247823 ,  0.0667238 ,\n",
       "           -0.22054324, -0.02710774,  0.1023373 , -0.32314053,\n",
       "            0.10004394,  0.05471085,  0.25329533,  0.14564347,\n",
       "            0.21344618,  0.16718994,  0.3591623 ,  0.10715406,\n",
       "           -0.4809029 , -0.12248678,  0.25642788, -0.19472279,\n",
       "           -0.18048856,  0.26966915, -1.1792026 , -0.4366619 ,\n",
       "           -0.19258492,  0.18174669, -0.10516948, -0.07915959]],\n",
       " \n",
       "         [[-0.04971032, -0.3162272 , -0.45119616, -0.32596603,\n",
       "            0.0268284 ,  0.2077806 , -0.00984088,  0.04223233,\n",
       "           -0.36543927, -0.28098783, -0.0383309 , -0.16075695,\n",
       "           -0.307085  , -0.01244053,  0.05834934, -0.04677254,\n",
       "            0.16529632, -0.11009821, -0.11169351,  0.06277925,\n",
       "           -0.7476133 , -0.12133082, -0.1638394 , -0.07635922,\n",
       "            0.08692534, -0.3210374 , -0.14136985,  0.11369978,\n",
       "            0.18145403, -0.17995633,  0.10387417,  0.02881137]]],\n",
       " \n",
       " \n",
       "        [[[-0.27907264,  0.29218727, -0.14957952,  0.24289373,\n",
       "           -0.32061398, -0.2812365 , -1.0177815 , -0.1244778 ,\n",
       "            0.11053468,  0.09858452, -0.02883258,  0.25009882,\n",
       "           -0.30351138,  0.24630286, -0.28304312,  0.03641039,\n",
       "            0.09259546, -0.4233686 ,  0.01716351, -0.35626465,\n",
       "           -0.1216442 ,  0.11153863,  0.03500187,  0.31245637,\n",
       "            0.3369659 , -0.25081655, -0.32557905, -0.45789367,\n",
       "            0.20840286, -0.17086478,  0.07319656,  0.18242845]],\n",
       " \n",
       "         [[ 0.11064156,  0.01180585,  0.06567878,  0.13499738,\n",
       "           -0.02625291,  0.14260171, -1.1318479 , -0.14367571,\n",
       "            0.2648517 ,  0.20489027,  0.28315872,  0.27784953,\n",
       "           -0.20497914, -0.0376945 ,  0.33659914,  0.14269364,\n",
       "            0.04637028,  0.04406034, -0.0769992 ,  0.00558371,\n",
       "            0.08408081,  0.11700298, -0.460663  , -0.38809073,\n",
       "           -0.26422682,  0.20006944, -0.2177731 , -0.08005841,\n",
       "            0.34199744,  0.32484505,  0.21643056,  0.15482067]],\n",
       " \n",
       "         [[ 0.18405567, -0.28353828,  0.02450271, -0.23637095,\n",
       "            0.17288074,  0.12720573,  0.02893522,  0.32638335,\n",
       "           -0.20839342, -0.27990505, -0.16312753,  0.2197915 ,\n",
       "            0.37808526, -0.20583883, -0.04926132,  0.11501892,\n",
       "            0.07430487,  0.00212855,  0.0529636 ,  0.3575338 ,\n",
       "            0.05413109, -0.23513548, -0.12058774,  0.08752549,\n",
       "           -0.23783222,  0.06311479,  0.31428322, -0.0093223 ,\n",
       "            0.18639648, -0.13585815,  0.15124503,  0.00720058]]],\n",
       " \n",
       " \n",
       "        [[[-0.29923463,  0.03220935, -0.01563096, -0.00340392,\n",
       "            0.25457144,  0.19187427,  0.02959155, -0.24602127,\n",
       "            0.00357364,  0.12818165, -0.2376208 , -0.11727127,\n",
       "           -0.03249624,  0.1375847 ,  0.05137129, -0.27636167,\n",
       "           -0.10512273, -0.5071015 ,  0.05845152, -0.16812836,\n",
       "            0.3039267 , -0.4194166 , -0.19831772,  0.09460741,\n",
       "            0.12481903,  0.10939638,  0.23869033,  0.08606757,\n",
       "            0.14907259, -0.2812798 , -0.03890141, -0.03381729]],\n",
       " \n",
       "         [[ 0.18605322, -0.00939985,  0.18477625,  0.18375105,\n",
       "           -0.31158352,  0.13643299,  0.01310827, -0.17491277,\n",
       "            0.13108076, -0.03487815,  0.24264841,  0.11779263,\n",
       "            0.06175373, -0.3654491 , -0.05770663, -0.22077712,\n",
       "           -0.17641138, -0.11054727, -0.27244577, -0.11833099,\n",
       "            0.14544117,  0.13151932, -0.1239193 , -0.07723144,\n",
       "            0.16066545, -0.15537879, -0.0191628 ,  0.2830281 ,\n",
       "           -0.1871176 ,  0.18663016,  0.06336763,  0.14374933]],\n",
       " \n",
       "         [[ 0.09084748, -0.01446429,  0.27291498,  0.00734604,\n",
       "           -0.0883036 , -0.3659153 ,  0.18620208,  0.3532186 ,\n",
       "            0.10695168,  0.00489947,  0.01742214, -0.04613597,\n",
       "           -0.00544754,  0.24569875,  0.01833353,  0.07872809,\n",
       "           -0.25379157,  0.19776662,  0.20651874,  0.25142908,\n",
       "           -0.0354484 ,  0.25326303,  0.32698634, -0.02096277,\n",
       "           -0.15263681,  0.05525605,  0.10854312,  0.05721612,\n",
       "           -0.39231616,  0.10087284, -0.40098664,  0.2486009 ]]]],\n",
       "       dtype=float32)>,\n",
       " <tf.Variable 'conv2d_4/bias:0' shape=(32,) dtype=float32, numpy=\n",
       " array([-0.02272374, -0.00262135, -0.00466308, -0.04929837, -0.02276817,\n",
       "        -0.00967584,  0.13511333, -0.01358877, -0.01862393, -0.02096755,\n",
       "        -0.10128385, -0.00109768,  0.0055433 , -0.00335645, -0.00483504,\n",
       "        -0.04151135, -0.06330214,  0.02326454, -0.00433176, -0.01658051,\n",
       "         0.03779772, -0.00916035, -0.00560004, -0.01471187, -0.02772394,\n",
       "        -0.00478018,  0.05260093,  0.00798769,  0.00134815, -0.01801946,\n",
       "        -0.01177642, -0.17348032], dtype=float32)>]"
      ]
     },
     "execution_count": 45,
     "metadata": {},
     "output_type": "execute_result"
    }
   ],
   "source": [
    "conv.weights"
   ]
  },
  {
   "cell_type": "code",
   "execution_count": 46,
   "id": "fdd780e8-be49-4d3e-89cb-c92b71807651",
   "metadata": {},
   "outputs": [
    {
     "name": "stdout",
     "output_type": "stream",
     "text": [
      "-0.027484814 0.25798547\n"
     ]
    }
   ],
   "source": [
    "conv_weights = conv.weights[0].numpy()\n",
    "print(conv_weights.mean(), conv_weights.std())"
   ]
  },
  {
   "cell_type": "code",
   "execution_count": 47,
   "id": "917782db-0e0c-4aec-8b64-b1391592f0d0",
   "metadata": {},
   "outputs": [
    {
     "data": {
      "image/png": "[encoded data removed]",
      "text/plain": [
       "<Figure size 432x288 with 1 Axes>"
      ]
     },
     "metadata": {
      "needs_background": "light"
     },
     "output_type": "display_data"
    }
   ],
   "source": [
    "import matplotlib.pyplot as plt\n",
    "\n",
    "plt.hist(conv_weights.reshape(-1, 1))\n",
    "plt.xlabel('weight')\n",
    "plt.ylabel('count')\n",
    "plt.show()"
   ]
  },
  {
   "cell_type": "code",
   "execution_count": 48,
   "id": "3cc15674-cf21-478f-a7ac-c45cd803a014",
   "metadata": {},
   "outputs": [
    {
     "data": {
      "image/png": "[encoded data removed]",
      "text/plain": [
       "<Figure size 1080x144 with 32 Axes>"
      ]
     },
     "metadata": {
      "needs_background": "light"
     },
     "output_type": "display_data"
    }
   ],
   "source": [
    "fig, axs = plt.subplots(2, 16, figsize=(15, 2))\n",
    "for i in range(2):\n",
    "    for j in range(16):\n",
    "        axs[i, j].imshow(conv_weights[:,:,0,i*16+j], vmin=-0.5, vmax=0.5)\n",
    "        axs[i, j].axis('off')\n",
    "plt.show()"
   ]
  },
  {
   "cell_type": "code",
   "execution_count": 49,
   "id": "ceed4532-d681-4615-b4af-28e0e61f1a1e",
   "metadata": {},
   "outputs": [
    {
     "data": {
      "text/plain": [
       "array([[-0.11354838,  0.22484648, -0.04971032],\n",
       "       [-0.27907264,  0.11064156,  0.18405567],\n",
       "       [-0.29923463,  0.18605322,  0.09084748]], dtype=float32)"
      ]
     },
     "execution_count": 49,
     "metadata": {},
     "output_type": "execute_result"
    }
   ],
   "source": [
    "conv_weights[:,:,0,0]"
   ]
  },
  {
   "cell_type": "markdown",
   "id": "83bce4d5-fe6b-4301-bfe5-e1c937dd70df",
   "metadata": {},
   "source": [
    "### conv"
   ]
  },
  {
   "cell_type": "code",
   "execution_count": 68,
   "id": "23843660-5f33-4677-ab15-de2ffbe489c8",
   "metadata": {},
   "outputs": [],
   "source": [
    "no_training_model = keras.Sequential()\n",
    "no_training_model.add(keras.layers.Conv2D(32, kernel_size=3, activation=\n",
    "                                          'relu', padding='same', input_shape=(28, 28, 1)))"
   ]
  },
  {
   "cell_type": "code",
   "execution_count": 69,
   "id": "f728179b-5133-4ecb-a56f-71390708a523",
   "metadata": {},
   "outputs": [
    {
     "name": "stdout",
     "output_type": "stream",
     "text": [
      "(3, 3, 1, 32)\n"
     ]
    }
   ],
   "source": [
    "no_training_conv = no_training_model.layers[0]\n",
    "print(no_training_conv.weights[0].shape)"
   ]
  },
  {
   "cell_type": "code",
   "execution_count": 70,
   "id": "f2ade27d-3069-4709-9663-3fa9a74e21e0",
   "metadata": {},
   "outputs": [
    {
     "name": "stdout",
     "output_type": "stream",
     "text": [
      "0.0020695797 0.08623047\n"
     ]
    }
   ],
   "source": [
    "no_training_weights = no_training_conv.weights[0].numpy()\n",
    "print(no_training_weights.mean(), no_training_weights.std())"
   ]
  },
  {
   "cell_type": "code",
   "execution_count": 71,
   "id": "b7c458d7-c521-44a6-9e8c-e4fe0253bc2a",
   "metadata": {},
   "outputs": [
    {
     "data": {
      "image/png": "[encoded data removed]",
      "text/plain": [
       "<Figure size 432x288 with 1 Axes>"
      ]
     },
     "metadata": {
      "needs_background": "light"
     },
     "output_type": "display_data"
    }
   ],
   "source": [
    "import matplotlib.pyplot as plt\n",
    "\n",
    "plt.hist(no_training_weights.reshape(-1, 1))\n",
    "plt.xlabel('weight')\n",
    "plt.ylabel('count')\n",
    "plt.show()"
   ]
  },
  {
   "cell_type": "code",
   "execution_count": 72,
   "id": "c4f718ab-6103-47db-aef4-09ac5310a82c",
   "metadata": {},
   "outputs": [
    {
     "data": {
      "image/png": "[encoded data removed]",
      "text/plain": [
       "<Figure size 1080x144 with 32 Axes>"
      ]
     },
     "metadata": {
      "needs_background": "light"
     },
     "output_type": "display_data"
    }
   ],
   "source": [
    "fig, axs = plt.subplots(2, 16, figsize=(15, 2))\n",
    "for i in range(2):\n",
    "    for j in range(16):\n",
    "        axs[i, j].imshow(no_training_weights[:,:,0,i*16+j], vmin=-0.5, vmax=0.5)\n",
    "        axs[i, j].axis('off')\n",
    "plt.show()"
   ]
  },
  {
   "cell_type": "markdown",
   "id": "aefcee6a-e1ba-47a1-8683-fd820e1b48d2",
   "metadata": {},
   "source": [
    "# 특성 맵 시각화"
   ]
  },
  {
   "cell_type": "markdown",
   "id": "3c67eb87-c928-470d-a772-5fb3f6454014",
   "metadata": {},
   "source": [
    "### 케라스의 함수형 API"
   ]
  },
  {
   "cell_type": "code",
   "execution_count": 83,
   "id": "f2499c4d-a5c8-4ff3-8a51-9973885ae65a",
   "metadata": {},
   "outputs": [
    {
     "data": {
      "text/plain": [
       "<KerasTensor: shape=(None, 28, 28, 1) dtype=float32 (created by layer 'conv2d_4_input')>"
      ]
     },
     "execution_count": 83,
     "metadata": {},
     "output_type": "execute_result"
    }
   ],
   "source": [
    "model.input"
   ]
  },
  {
   "cell_type": "code",
   "execution_count": 85,
   "id": "38dde19e-ae48-4495-bb60-e0c5af829e7a",
   "metadata": {},
   "outputs": [],
   "source": [
    "conv_acti = keras.Model(model.input, model.layers[0].output)"
   ]
  },
  {
   "cell_type": "markdown",
   "id": "3adc3f4a-6d50-416b-9c31-e2542df425e5",
   "metadata": {},
   "source": [
    "### 이미지 확인"
   ]
  },
  {
   "cell_type": "code",
   "execution_count": 89,
   "id": "0e1fe6a7-582d-488c-8998-40d99efab68e",
   "metadata": {},
   "outputs": [
    {
     "data": {
      "image/png": "[encoded data removed]",
      "text/plain": [
       "<Figure size 432x288 with 1 Axes>"
      ]
     },
     "metadata": {
      "needs_background": "light"
     },
     "output_type": "display_data"
    }
   ],
   "source": [
    "(train_input, train_target), (test_input, test_target) =\\\n",
    "keras.datasets.fashion_mnist.load_data()\n",
    "plt.imshow(train_input[0], cmap='gray_r')\n",
    "plt.show()"
   ]
  },
  {
   "cell_type": "markdown",
   "id": "a401eb9e-e7f1-4033-95c0-04bf68092bbd",
   "metadata": {},
   "source": [
    "### 이미지 통과 및 확인"
   ]
  },
  {
   "cell_type": "code",
   "execution_count": 92,
   "id": "a368688e-292b-4e89-ac68-022bda34d6ae",
   "metadata": {},
   "outputs": [
    {
     "name": "stdout",
     "output_type": "stream",
     "text": [
      "1/1 [==============================] - 0s 23ms/step\n"
     ]
    }
   ],
   "source": [
    "inputs = train_input[0:1].reshape(-1, 28, 28, 1) / 255.0\n",
    "feature_maps = conv_acti.predict(inputs)"
   ]
  },
  {
   "cell_type": "code",
   "execution_count": 95,
   "id": "0fe44007-e518-400d-b80e-2168649be2f7",
   "metadata": {},
   "outputs": [
    {
     "name": "stdout",
     "output_type": "stream",
     "text": [
      "(1, 28, 28, 32)\n",
      "\n",
      "샘플 1개, (28, 28) 사이즈, 32개의 필터\n"
     ]
    }
   ],
   "source": [
    "print(feature_maps.shape)\n",
    "print('\\n샘플 1개, (28, 28) 사이즈, 32개의 필터')"
   ]
  },
  {
   "cell_type": "code",
   "execution_count": 96,
   "id": "404dce1b-507c-4187-859a-05b19c7a7513",
   "metadata": {},
   "outputs": [
    {
     "data": {
      "image/png": "[encoded data removed]",
      "text/plain": [
       "<Figure size 1080x576 with 32 Axes>"
      ]
     },
     "metadata": {
      "needs_background": "light"
     },
     "output_type": "display_data"
    }
   ],
   "source": [
    "fig, axs = plt.subplots(4, 8, figsize=(15, 8))\n",
    "\n",
    "for i in range(4):\n",
    "    for j in range(8):\n",
    "        axs[i, j].imshow(feature_maps[0, :, :, i*8+j])\n",
    "        axs[i, j].axis('off')\n",
    "plt.show()"
   ]
  },
  {
   "cell_type": "code",
   "execution_count": 97,
   "id": "c5ef87e3-5506-4d3d-9da4-1a65a9999837",
   "metadata": {},
   "outputs": [],
   "source": [
    "conv2_acti = keras.Model(model.input, model.layers[2].output)"
   ]
  },
  {
   "cell_type": "code",
   "execution_count": 98,
   "id": "1272ca6d-0401-4deb-8a32-e1996b54a986",
   "metadata": {},
   "outputs": [
    {
     "name": "stdout",
     "output_type": "stream",
     "text": [
      "1/1 [==============================] - 0s 54ms/step\n"
     ]
    }
   ],
   "source": [
    "inputs = train_input[0:1].reshape(-1, 28, 28, 1) / 255.0\n",
    "feature_maps = conv2_acti.predict(inputs)"
   ]
  },
  {
   "cell_type": "code",
   "execution_count": 101,
   "id": "add7e8a3-d49e-47f1-a9b0-2eae42a0221c",
   "metadata": {},
   "outputs": [
    {
     "data": {
      "text/plain": [
       "[<keras.src.layers.convolutional.conv2d.Conv2D at 0x7f8fb0835e80>,\n",
       " <keras.src.layers.pooling.max_pooling2d.MaxPooling2D at 0x7f8fb08352b0>,\n",
       " <keras.src.layers.convolutional.conv2d.Conv2D at 0x7f8fb08efe50>]"
      ]
     },
     "execution_count": 101,
     "metadata": {},
     "output_type": "execute_result"
    }
   ],
   "source": [
    "model.layers[:3]"
   ]
  },
  {
   "cell_type": "code",
   "execution_count": 102,
   "id": "bb80cf68-5d41-4cd3-be42-84dc0694bc27",
   "metadata": {},
   "outputs": [
    {
     "data": {
      "image/png": "[encoded data removed]",
      "text/plain": [
       "<Figure size 864x864 with 64 Axes>"
      ]
     },
     "metadata": {
      "needs_background": "light"
     },
     "output_type": "display_data"
    }
   ],
   "source": [
    "fig, axs = plt.subplots(8, 8, figsize=(12, 12))\n",
    "\n",
    "for i in range(8):\n",
    "    for j in range(8):\n",
    "        axs[i, j].imshow(feature_maps[0, :, :, i*8+j])\n",
    "        axs[i, j].axis('off')\n",
    "plt.show()"
   ]
  },
  {
   "cell_type": "code",
   "execution_count": 106,
   "id": "387708b5-1765-4b9e-8a58-d0e51f64be2e",
   "metadata": {},
   "outputs": [
    {
     "ename": "AttributeError",
     "evalue": "'Sequential' object has no attribute '_layers'",
     "output_type": "error",
     "traceback": [
      "\u001b[0;31m---------------------------------------------------------------------------\u001b[0m",
      "\u001b[0;31mAttributeError\u001b[0m                            Traceback (most recent call last)",
      "\u001b[0;32m/var/folders/s8/4qhrcmqj54x02sq0c_2xc1q80000gn/T/ipykernel_82810/675703814.py\u001b[0m in \u001b[0;36m<module>\u001b[0;34m\u001b[0m\n\u001b[0;32m----> 1\u001b[0;31m \u001b[0mmodel\u001b[0m\u001b[0;34m.\u001b[0m\u001b[0m_layers\u001b[0m\u001b[0;34m[\u001b[0m\u001b[0;36m0\u001b[0m\u001b[0;34m]\u001b[0m\u001b[0;34m.\u001b[0m\u001b[0minput\u001b[0m\u001b[0;34m\u001b[0m\u001b[0;34m\u001b[0m\u001b[0m\n\u001b[0m",
      "\u001b[0;31mAttributeError\u001b[0m: 'Sequential' object has no attribute '_layers'"
     ]
    }
   ],
   "source": [
    "model._layers[0].input"
   ]
  }
 ],
 "metadata": {
  "kernelspec": {
   "display_name": "Python 3 (ipykernel)",
   "language": "python",
   "name": "python3"
  },
  "language_info": {
   "codemirror_mode": {
    "name": "ipython",
    "version": 3
   },
   "file_extension": ".py",
   "mimetype": "text/x-python",
   "name": "python",
   "nbconvert_exporter": "python",
   "pygments_lexer": "ipython3",
   "version": "3.9.7"
  }
 },
 "nbformat": 4,
 "nbformat_minor": 5
}
