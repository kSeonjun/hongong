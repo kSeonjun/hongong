{
 "cells": [
  {
   "cell_type": "code",
   "execution_count": 31,
   "id": "d1821271-c514-4dd4-bc6c-540063877cd0",
   "metadata": {},
   "outputs": [],
   "source": [
    "from tensorflow import keras\n",
    "from sklearn.model_selection import train_test_split"
   ]
  },
  {
   "cell_type": "markdown",
   "id": "c3c2a3ae-6ffa-4a31-899f-a4c95c412d5e",
   "metadata": {},
   "source": [
    "# preprocessing"
   ]
  },
  {
   "cell_type": "code",
   "execution_count": 32,
   "id": "1f4c341f-f0f1-4f54-8bc4-82fdb9c24f30",
   "metadata": {},
   "outputs": [
    {
     "name": "stdout",
     "output_type": "stream",
     "text": [
      "(48000, 28, 28, 1)\n",
      "(48000,)\n"
     ]
    }
   ],
   "source": [
    "# load dataset\n",
    "(train_input, train_target), (test_input, test_target) = keras.datasets.fashion_mnist.load_data()\n",
    "\n",
    "# split dataset\n",
    "train_scaled = train_input.reshape(-1, 28, 28, 1) / 255\n",
    "train_scaled, val_scaled, train_target, val_target = train_test_split(\n",
    "    train_scaled, train_target, test_size=0.2, random_state=42)\n",
    "\n",
    "print(train_scaled.shape)\n",
    "print(train_target.shape)"
   ]
  },
  {
   "cell_type": "markdown",
   "id": "3d1a16e6-7564-4a36-a625-a8e40b3aad14",
   "metadata": {},
   "source": [
    "# 합성곱 신경망 만들기"
   ]
  },
  {
   "cell_type": "code",
   "execution_count": 33,
   "id": "1cec1d4c-7cfa-4226-a440-60b5dd29604b",
   "metadata": {},
   "outputs": [],
   "source": [
    "# 합성곱 적용\n",
    "# 32개의 필터, (3, 3) 커널, 활성화 함수: relu, 세임패딩\n",
    "\n",
    "model = keras.Sequential()\n",
    "model.add(keras.layers.Conv2D(32, kernel_size=3, activation='relu',\n",
    "                              padding='same', input_shape=(28, 28, 1)))"
   ]
  },
  {
   "cell_type": "code",
   "execution_count": 34,
   "id": "fc515078-03e2-4d9d-8705-db202947bba4",
   "metadata": {},
   "outputs": [],
   "source": [
    "# (2, 2) 풀링 적용하게 되면\n",
    "# (28, 28, 32) -> (14, 14, 32)로 될 것.\n",
    "\n",
    "model.add(keras.layers.MaxPooling2D(2))"
   ]
  },
  {
   "cell_type": "code",
   "execution_count": 35,
   "id": "a29cb031-cc2a-45a7-850c-8d4369b9d4c7",
   "metadata": {},
   "outputs": [],
   "source": [
    "# 합성곱 적용\n",
    "# 64개 필터, (3, 3) 커널, 활성화 함수: relu, 세임패딩\n",
    "\n",
    "# (2, 2) 풀링 적용하게 되면\n",
    "# (14, 14, 64) -> (7, 7, 64)로 될 것.\n",
    "\n",
    "model.add(keras.layers.Conv2D(64, kernel_size=3, activation='relu', padding='same'))\n",
    "model.add(keras.layers.MaxPooling2D(2))"
   ]
  },
  {
   "cell_type": "code",
   "execution_count": 36,
   "id": "796d6144-e9d6-4c31-8d30-5f9df81be165",
   "metadata": {},
   "outputs": [],
   "source": [
    "# flatten -> dense -> dense 출력층\n",
    "\n",
    "model.add(keras.layers.Flatten())\n",
    "model.add(keras.layers.Dense(100, activation='relu'))\n",
    "model.add(keras.layers.Dropout(0.4))\n",
    "model.add(keras.layers.Dense(10, activation='softmax'))"
   ]
  },
  {
   "cell_type": "code",
   "execution_count": 37,
   "id": "2d8e238c-e752-4a31-8b63-6df87177ee67",
   "metadata": {},
   "outputs": [
    {
     "name": "stdout",
     "output_type": "stream",
     "text": [
      "Model: \"sequential_2\"\n",
      "_________________________________________________________________\n",
      " Layer (type)                Output Shape              Param #   \n",
      "=================================================================\n",
      " conv2d_4 (Conv2D)           (None, 28, 28, 32)        320       \n",
      "                                                                 \n",
      " max_pooling2d_4 (MaxPoolin  (None, 14, 14, 32)        0         \n",
      " g2D)                                                            \n",
      "                                                                 \n",
      " conv2d_5 (Conv2D)           (None, 14, 14, 64)        18496     \n",
      "                                                                 \n",
      " max_pooling2d_5 (MaxPoolin  (None, 7, 7, 64)          0         \n",
      " g2D)                                                            \n",
      "                                                                 \n",
      " flatten_2 (Flatten)         (None, 3136)              0         \n",
      "                                                                 \n",
      " dense_4 (Dense)             (None, 100)               313700    \n",
      "                                                                 \n",
      " dropout_2 (Dropout)         (None, 100)               0         \n",
      "                                                                 \n",
      " dense_5 (Dense)             (None, 10)                1010      \n",
      "                                                                 \n",
      "=================================================================\n",
      "Total params: 333526 (1.27 MB)\n",
      "Trainable params: 333526 (1.27 MB)\n",
      "Non-trainable params: 0 (0.00 Byte)\n",
      "_________________________________________________________________\n"
     ]
    }
   ],
   "source": [
    "model.summary()"
   ]
  },
  {
   "cell_type": "code",
   "execution_count": 38,
   "id": "82a4e7cf-681e-400c-9ada-405b61619f31",
   "metadata": {},
   "outputs": [
    {
     "name": "stdout",
     "output_type": "stream",
     "text": [
      "You must install pydot (`pip install pydot`) and install graphviz (see instructions at https://graphviz.gitlab.io/download/) for plot_model to work.\n"
     ]
    }
   ],
   "source": [
    "keras.utils.plot_model(model)"
   ]
  },
  {
   "cell_type": "code",
   "execution_count": 39,
   "id": "7a2bac86-411b-419e-80af-9bcdf04e1e00",
   "metadata": {},
   "outputs": [
    {
     "name": "stdout",
     "output_type": "stream",
     "text": [
      "Epoch 1/20\n",
      "1500/1500 [==============================] - 25s 16ms/step - loss: 0.5123 - accuracy: 0.8168 - val_loss: 0.3284 - val_accuracy: 0.8803\n",
      "Epoch 2/20\n",
      "   5/1500 [..............................] - ETA: 24s - loss: 0.4637 - accuracy: 0.8313"
     ]
    },
    {
     "name": "stderr",
     "output_type": "stream",
     "text": [
      "/Users/gimseonjun/anaconda3/lib/python3.9/site-packages/keras/src/engine/training.py:3000: UserWarning: You are saving your model as an HDF5 file via `model.save()`. This file format is considered legacy. We recommend using instead the native Keras format, e.g. `model.save('my_model.keras')`.\n",
      "  saving_api.save_model(\n"
     ]
    },
    {
     "name": "stdout",
     "output_type": "stream",
     "text": [
      "1500/1500 [==============================] - 24s 16ms/step - loss: 0.3426 - accuracy: 0.8771 - val_loss: 0.2902 - val_accuracy: 0.8904\n",
      "Epoch 3/20\n",
      "1500/1500 [==============================] - 24s 16ms/step - loss: 0.2907 - accuracy: 0.8957 - val_loss: 0.2654 - val_accuracy: 0.9016\n",
      "Epoch 4/20\n",
      "1500/1500 [==============================] - 25s 16ms/step - loss: 0.2599 - accuracy: 0.9052 - val_loss: 0.2366 - val_accuracy: 0.9121\n",
      "Epoch 5/20\n",
      "1500/1500 [==============================] - 25s 16ms/step - loss: 0.2347 - accuracy: 0.9141 - val_loss: 0.2407 - val_accuracy: 0.9130\n",
      "Epoch 6/20\n",
      "1500/1500 [==============================] - 25s 17ms/step - loss: 0.2154 - accuracy: 0.9204 - val_loss: 0.2287 - val_accuracy: 0.9171\n",
      "Epoch 7/20\n",
      "1500/1500 [==============================] - 25s 17ms/step - loss: 0.1967 - accuracy: 0.9264 - val_loss: 0.2199 - val_accuracy: 0.9197\n",
      "Epoch 8/20\n",
      "1500/1500 [==============================] - 25s 17ms/step - loss: 0.1840 - accuracy: 0.9324 - val_loss: 0.2246 - val_accuracy: 0.9196\n",
      "Epoch 9/20\n",
      "1500/1500 [==============================] - 25s 17ms/step - loss: 0.1686 - accuracy: 0.9369 - val_loss: 0.2202 - val_accuracy: 0.9211\n"
     ]
    }
   ],
   "source": [
    "model.compile(optimizer='adam', loss='sparse_categorical_crossentropy', metrics='accuracy')\n",
    "checkpoint_cb = keras.callbacks.ModelCheckpoint('best-cnn-model.h5')\n",
    "early_stopping_cb = keras.callbacks.EarlyStopping(patience=2, restore_best_weights=True)\n",
    "history = model.fit(train_scaled, train_target, epochs=20, validation_data=(val_scaled, val_target),\n",
    "                    callbacks=[checkpoint_cb, early_stopping_cb])"
   ]
  },
  {
   "cell_type": "code",
   "execution_count": 40,
   "id": "e2f97183-1261-4a13-9cf4-eaeaeecb0b34",
   "metadata": {},
   "outputs": [
    {
     "data": {
      "text/plain": [
       "(48000, 48000)"
      ]
     },
     "execution_count": 40,
     "metadata": {},
     "output_type": "execute_result"
    }
   ],
   "source": [
    "len(train_scaled), len(train_target)"
   ]
  },
  {
   "cell_type": "code",
   "execution_count": 41,
   "id": "c01ce68d-dbce-40ec-8167-cfad9dfc022c",
   "metadata": {},
   "outputs": [
    {
     "data": {
      "image/png": "[encoded data removed]",
      "text/plain": [
       "<Figure size 432x288 with 1 Axes>"
      ]
     },
     "metadata": {
      "needs_background": "light"
     },
     "output_type": "display_data"
    }
   ],
   "source": [
    "import matplotlib.pyplot as plt\n",
    "\n",
    "plt.plot(history.history['loss'])\n",
    "plt.plot(history.history['val_loss'])\n",
    "plt.xlabel('epoch')\n",
    "plt.ylabel('loss')\n",
    "plt.legend(['train', 'val'])\n",
    "plt.show()"
   ]
  },
  {
   "cell_type": "code",
   "execution_count": 42,
   "id": "8ed7262d-991a-4e6e-83c0-0aea45aaf4a0",
   "metadata": {},
   "outputs": [
    {
     "name": "stdout",
     "output_type": "stream",
     "text": [
      "375/375 [==============================] - 1s 3ms/step - loss: 0.2199 - accuracy: 0.9197\n"
     ]
    },
    {
     "data": {
      "text/plain": [
       "[0.21986189484596252, 0.9197499752044678]"
      ]
     },
     "execution_count": 42,
     "metadata": {},
     "output_type": "execute_result"
    }
   ],
   "source": [
    "model.evaluate(val_scaled, val_target)"
   ]
  },
  {
   "cell_type": "code",
   "execution_count": 43,
   "id": "65e496c3-3275-4cd6-89a4-ef689df9bd59",
   "metadata": {},
   "outputs": [
    {
     "data": {
      "image/png": "[encoded data removed]",
      "text/plain": [
       "<Figure size 432x288 with 1 Axes>"
      ]
     },
     "metadata": {
      "needs_background": "light"
     },
     "output_type": "display_data"
    }
   ],
   "source": [
    "plt.imshow(val_scaled[0].reshape(28, 28), cmap='gray_r')\n",
    "plt.show()"
   ]
  },
  {
   "cell_type": "code",
   "execution_count": 44,
   "id": "2562d933-8eac-43b3-86c1-57111d4c32a8",
   "metadata": {},
   "outputs": [
    {
     "name": "stdout",
     "output_type": "stream",
     "text": [
      "1/1 [==============================] - 0s 103ms/step\n",
      "[[4.3686118e-15 6.9376753e-21 2.9318577e-18 1.2420817e-16 7.1023506e-16\n",
      "  5.6478565e-14 2.4229248e-15 2.4185189e-16 1.0000000e+00 1.0137619e-15]]\n"
     ]
    }
   ],
   "source": [
    "preds = model.predict(val_scaled[0:1])\n",
    "print(preds)"
   ]
  },
  {
   "cell_type": "code",
   "execution_count": 45,
   "id": "237af189-f95a-4865-bba1-f02e7aa1b736",
   "metadata": {},
   "outputs": [
    {
     "data": {
      "image/png": "[encoded data removed]",
      "text/plain": [
       "<Figure size 432x288 with 1 Axes>"
      ]
     },
     "metadata": {
      "needs_background": "light"
     },
     "output_type": "display_data"
    }
   ],
   "source": [
    "plt.bar(range(1, 11), preds[0])\n",
    "plt.xlabel('class')\n",
    "plt.ylabel('prob.')\n",
    "plt.show()"
   ]
  },
  {
   "cell_type": "code",
   "execution_count": 46,
   "id": "bed79717-68e7-4dde-bfcf-ff6a625c127e",
   "metadata": {},
   "outputs": [],
   "source": [
    "classes = ['티셔츠', '바지', '스웨터', '드레스', '코트', '샌달', '셔츠', '스니커즈', '가방', '앵클 부츠']"
   ]
  },
  {
   "cell_type": "code",
   "execution_count": 47,
   "id": "8c173d41-6ea7-48a5-8b47-d280da5257e7",
   "metadata": {},
   "outputs": [
    {
     "name": "stdout",
     "output_type": "stream",
     "text": [
      "가방\n"
     ]
    }
   ],
   "source": [
    "import numpy as np\n",
    "\n",
    "print(classes[np.argmax(preds)])"
   ]
  },
  {
   "cell_type": "code",
   "execution_count": 48,
   "id": "4f9a18a7-3da1-48e7-8010-9aa157488122",
   "metadata": {},
   "outputs": [
    {
     "name": "stdout",
     "output_type": "stream",
     "text": [
      "313/313 [==============================] - 1s 3ms/step - loss: 0.2428 - accuracy: 0.9120\n"
     ]
    },
    {
     "data": {
      "text/plain": [
       "[0.24278080463409424, 0.9120000004768372]"
      ]
     },
     "execution_count": 48,
     "metadata": {},
     "output_type": "execute_result"
    }
   ],
   "source": [
    "test_scaled = test_input.reshape(-1, 28, 28, 1) / 255.0\n",
    "\n",
    "model.evaluate(test_scaled, test_target)"
   ]
  }
 ],
 "metadata": {
  "kernelspec": {
   "display_name": "Python 3 (ipykernel)",
   "language": "python",
   "name": "python3"
  },
  "language_info": {
   "codemirror_mode": {
    "name": "ipython",
    "version": 3
   },
   "file_extension": ".py",
   "mimetype": "text/x-python",
   "name": "python",
   "nbconvert_exporter": "python",
   "pygments_lexer": "ipython3",
   "version": "3.9.7"
  }
 },
 "nbformat": 4,
 "nbformat_minor": 5
}
