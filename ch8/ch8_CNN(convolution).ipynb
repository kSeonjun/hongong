{
 "cells": [
  {
   "cell_type": "code",
   "execution_count": 6,
   "id": "e8f2ea95-724b-4e4c-ae6b-60fd46e9a471",
   "metadata": {},
   "outputs": [],
   "source": [
    "from tensorflow import keras"
   ]
  },
  {
   "cell_type": "code",
   "execution_count": 7,
   "id": "d79b573b-bbfa-430e-aac7-f24971ae1c85",
   "metadata": {},
   "outputs": [
    {
     "data": {
      "text/plain": [
       "<keras.src.layers.convolutional.conv2d.Conv2D at 0x7fdc8a686a00>"
      ]
     },
     "execution_count": 7,
     "metadata": {},
     "output_type": "execute_result"
    }
   ],
   "source": [
    "keras.layers.Conv2D(10, kernel_size=(3, 3), activation='relu')"
   ]
  },
  {
   "cell_type": "markdown",
   "id": "eaf3fce6-4c49-4bf0-bdad-f7c43a8f75ba",
   "metadata": {},
   "source": [
    "### CNN"
   ]
  },
  {
   "cell_type": "markdown",
   "id": "f4ff15c7-3045-4832-abc9-6d122648f953",
   "metadata": {},
   "source": [
    "## padding\n",
    "\n",
    "* 합성곱을 수행하면서 입력과 같은 크기의 출력을 만들기 위해서 사용\n",
    "* 출력을 조절하기 위해서 사용<br>.\n",
    "* valid_padding : 패딩없이 순수한 입력해별에서만 합성곱을 하여 특성 맵을 만드는 경우\n",
    "* same_padding : 입력과 특성 맵의 크기를 동일하게 만들기 위해 입력 주위에 0으로 패딩하는 것"
   ]
  },
  {
   "cell_type": "code",
   "execution_count": 9,
   "id": "8077e032-ab6f-4319-aa42-4b289ead0995",
   "metadata": {},
   "outputs": [
    {
     "data": {
      "text/plain": [
       "<keras.src.layers.convolutional.conv2d.Conv2D at 0x7fdca003ac70>"
      ]
     },
     "execution_count": 9,
     "metadata": {},
     "output_type": "execute_result"
    }
   ],
   "source": [
    "keras.layers.Conv2D(10, kernel_size=(3, 3), activation='relu', padding='same')"
   ]
  },
  {
   "cell_type": "markdown",
   "id": "47aee233-f518-471d-8f32-9037f46cd6f6",
   "metadata": {},
   "source": [
    "## Stride"
   ]
  },
  {
   "cell_type": "code",
   "execution_count": 14,
   "id": "0ad87050-e883-49ab-8618-91d7ce23ed3a",
   "metadata": {},
   "outputs": [
    {
     "data": {
      "text/plain": [
       "<keras.src.layers.convolutional.conv2d.Conv2D at 0x7fdc8a84e9a0>"
      ]
     },
     "execution_count": 14,
     "metadata": {},
     "output_type": "execute_result"
    }
   ],
   "source": [
    "keras.layers.Conv2D(10, kernel_size=(3, 3), activation='relu', padding='same', strides=2)"
   ]
  },
  {
   "cell_type": "markdown",
   "id": "d3a978bf-45ce-4fe4-a4a1-5b25beca3ef1",
   "metadata": {},
   "source": [
    "## Poolnig\n",
    "\n",
    "* 합성곱 층에서 만든 특성 맵의 가로세로 크기를 줄이는 역할을 수행한다."
   ]
  },
  {
   "cell_type": "code",
   "execution_count": 15,
   "id": "ec22b058-f1cb-4920-8c38-4296a208d08c",
   "metadata": {},
   "outputs": [
    {
     "data": {
      "text/plain": [
       "<keras.src.layers.pooling.max_pooling2d.MaxPooling2D at 0x7fdc8a7a1e80>"
      ]
     },
     "execution_count": 15,
     "metadata": {},
     "output_type": "execute_result"
    }
   ],
   "source": [
    "keras.layers.MaxPooling2D(2)"
   ]
  },
  {
   "cell_type": "code",
   "execution_count": 17,
   "id": "d6ba77a0-29af-4a95-8b07-1056550a326a",
   "metadata": {},
   "outputs": [
    {
     "data": {
      "text/plain": [
       "<keras.src.layers.pooling.max_pooling2d.MaxPooling2D at 0x7fdc8a8613d0>"
      ]
     },
     "execution_count": 17,
     "metadata": {},
     "output_type": "execute_result"
    }
   ],
   "source": [
    "keras.layers.MaxPooling2D(2, strides=2, padding='valid')"
   ]
  }
 ],
 "metadata": {
  "kernelspec": {
   "display_name": "Python 3 (ipykernel)",
   "language": "python",
   "name": "python3"
  },
  "language_info": {
   "codemirror_mode": {
    "name": "ipython",
    "version": 3
   },
   "file_extension": ".py",
   "mimetype": "text/x-python",
   "name": "python",
   "nbconvert_exporter": "python",
   "pygments_lexer": "ipython3",
   "version": "3.9.7"
  }
 },
 "nbformat": 4,
 "nbformat_minor": 5
}
