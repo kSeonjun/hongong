{
 "cells": [
  {
   "cell_type": "markdown",
   "id": "50c2fb17-170d-479b-a49e-f8818236b2a8",
   "metadata": {},
   "source": [
    "# Multiple Regression(다중회귀)"
   ]
  },
  {
   "cell_type": "markdown",
   "id": "c139dc1d-f16b-4064-83fc-e5b5817eeaad",
   "metadata": {},
   "source": [
    "### Feature engineering(특성공학)\n",
    "* 기존의 특성을 사용해 새로운 특성을 봅아내는 작업\n",
    "* 직접만들 수 있지만 sklearn을 사용해 만들어낼 수 있다."
   ]
  },
  {
   "cell_type": "code",
   "execution_count": 11,
   "id": "b101b983-7287-4439-bc39-b17cedc9d4d2",
   "metadata": {},
   "outputs": [],
   "source": [
    "import pandas as pd\n",
    "import numpy as np"
   ]
  },
  {
   "cell_type": "code",
   "execution_count": 12,
   "id": "5bbd1604-6eb5-4f3d-a240-00fcc5d61f42",
   "metadata": {},
   "outputs": [
    {
     "data": {
      "text/html": [
       "<div>\n",
       "<style scoped>\n",
       "    .dataframe tbody tr th:only-of-type {\n",
       "        vertical-align: middle;\n",
       "    }\n",
       "\n",
       "    .dataframe tbody tr th {\n",
       "        vertical-align: top;\n",
       "    }\n",
       "\n",
       "    .dataframe thead th {\n",
       "        text-align: right;\n",
       "    }\n",
       "</style>\n",
       "<table border=\"1\" class=\"dataframe\">\n",
       "  <thead>\n",
       "    <tr style=\"text-align: right;\">\n",
       "      <th></th>\n",
       "      <th>length</th>\n",
       "      <th>height</th>\n",
       "      <th>width</th>\n",
       "    </tr>\n",
       "  </thead>\n",
       "  <tbody>\n",
       "    <tr>\n",
       "      <th>0</th>\n",
       "      <td>8.4</td>\n",
       "      <td>2.11</td>\n",
       "      <td>1.41</td>\n",
       "    </tr>\n",
       "    <tr>\n",
       "      <th>1</th>\n",
       "      <td>13.7</td>\n",
       "      <td>3.53</td>\n",
       "      <td>2.00</td>\n",
       "    </tr>\n",
       "    <tr>\n",
       "      <th>2</th>\n",
       "      <td>15.0</td>\n",
       "      <td>3.82</td>\n",
       "      <td>2.43</td>\n",
       "    </tr>\n",
       "    <tr>\n",
       "      <th>3</th>\n",
       "      <td>16.2</td>\n",
       "      <td>4.59</td>\n",
       "      <td>2.63</td>\n",
       "    </tr>\n",
       "    <tr>\n",
       "      <th>4</th>\n",
       "      <td>17.4</td>\n",
       "      <td>4.59</td>\n",
       "      <td>2.94</td>\n",
       "    </tr>\n",
       "  </tbody>\n",
       "</table>\n",
       "</div>"
      ],
      "text/plain": [
       "   length   height   width\n",
       "0     8.4     2.11    1.41\n",
       "1    13.7     3.53    2.00\n",
       "2    15.0     3.82    2.43\n",
       "3    16.2     4.59    2.63\n",
       "4    17.4     4.59    2.94"
      ]
     },
     "metadata": {},
     "output_type": "display_data"
    },
    {
     "name": "stdout",
     "output_type": "stream",
     "text": [
      "[[ 8.4   2.11  1.41]\n",
      " [13.7   3.53  2.  ]\n",
      " [15.    3.82  2.43]\n",
      " [16.2   4.59  2.63]\n",
      " [17.4   4.59  2.94]]\n"
     ]
    }
   ],
   "source": [
    "df = pd.read_csv('https://bit.ly/perch_csv_data')\n",
    "display(df[:5])\n",
    "\n",
    "perch_full = df.to_numpy()\n",
    "print(perch_full[:5])"
   ]
  },
  {
   "cell_type": "code",
   "execution_count": 13,
   "id": "70de979d-5c05-4b11-b229-88952f441c86",
   "metadata": {},
   "outputs": [],
   "source": [
    "perch_weight = np.array(\n",
    "    [5.9, 32.0, 40.0, 51.5, 70.0, 100.0, 78.0, 80.0, 85.0, 85.0, 110.0,\n",
    "     115.0, 125.0, 130.0, 120.0, 120.0, 130.0, 135.0, 110.0, 130.0,\n",
    "     150.0, 145.0, 150.0, 170.0, 225.0, 145.0, 188.0, 180.0, 197.0,\n",
    "     218.0, 300.0, 260.0, 265.0, 250.0, 250.0, 300.0, 320.0, 514.0,\n",
    "     556.0, 840.0, 685.0, 700.0, 700.0, 690.0, 900.0, 650.0, 820.0,\n",
    "     850.0, 900.0, 1015.0, 820.0, 1100.0, 1000.0, 1100.0, 1000.0,\n",
    "     1000.0]\n",
    ")"
   ]
  },
  {
   "cell_type": "code",
   "execution_count": 14,
   "id": "d3483fc5-8f05-45f4-9844-dec9353aa0f7",
   "metadata": {},
   "outputs": [],
   "source": [
    "from sklearn.model_selection import train_test_split\n",
    "\n",
    "train_input, test_input, train_target, test_target = train_test_split(perch_full, perch_weight, random_state=42)"
   ]
  },
  {
   "cell_type": "markdown",
   "id": "74795346-4652-49dc-8f01-f895cf88795c",
   "metadata": {},
   "source": [
    "# 사이킷런의 변환기(transformer)\n",
    "\n",
    "제목 특성공학에서 알 수 있듯, 기존데이터에서 특성을 만들어내야한다.  \n",
    "이때 하나하나 특성을 만드는 방법도 있겠지만, 사이킷런에서 제공해주는 transformer를 사용해 간단하게 만드는 방법을 배워보자.    \n",
    "\n",
    "2개의 특성을 가지고있는 [[2, 3]] 데이터를 사용해본다."
   ]
  },
  {
   "cell_type": "code",
   "execution_count": 15,
   "id": "65660978-7a40-4650-950a-c34e83ce7cc4",
   "metadata": {},
   "outputs": [
    {
     "name": "stdout",
     "output_type": "stream",
     "text": [
      "[[1. 2. 3. 4. 6. 9.]]\n"
     ]
    }
   ],
   "source": [
    "from sklearn.preprocessing import PolynomialFeatures\n",
    "\n",
    "poly = PolynomialFeatures()\n",
    "poly.fit([[2, 3]])\n",
    "print(poly.transform([[2, 3]]))"
   ]
  },
  {
   "cell_type": "markdown",
   "id": "1c7a3323-b13a-48e8-b584-3b16849d1242",
   "metadata": {},
   "source": [
    "### 결과\n",
    "[2, 3]을 넣어 6개의 특성을 가진 샘플 [1. 2. 3. 4. 6. 9]을 얻었다.\n",
    "1. 각 특성\n",
    "2. 각특성을 제곱한 항\n",
    "3. 특성끼리 곱한 항\n",
    "4. 선형 방정식의 절편인 1\n",
    "    \n",
    "하지만 사이킷런의 선형 모델은 자동으로 절편을 추가하므로 include_bias=False로 지정하여 1을 없애준다."
   ]
  },
  {
   "cell_type": "code",
   "execution_count": 16,
   "id": "55ec0561-4cd3-42ce-b517-6be41925d96c",
   "metadata": {},
   "outputs": [
    {
     "name": "stdout",
     "output_type": "stream",
     "text": [
      "[[2. 3. 4. 6. 9.]]\n"
     ]
    }
   ],
   "source": [
    "poly = PolynomialFeatures(include_bias=False)\n",
    "poly.fit([[2, 3]])\n",
    "print(poly.transform([[2, 3]]))"
   ]
  },
  {
   "cell_type": "markdown",
   "id": "33ac3b61-e146-4d72-9593-dd9d51a3f18f",
   "metadata": {},
   "source": [
    "## 적용"
   ]
  },
  {
   "cell_type": "code",
   "execution_count": 33,
   "id": "33cdb156-cec0-4b3c-9d05-cd881df88f34",
   "metadata": {},
   "outputs": [
    {
     "name": "stdout",
     "output_type": "stream",
     "text": [
      "[[ 19.6      5.14     3.04   384.16   100.744   59.584   26.4196  15.6256\n",
      "    9.2416]\n",
      " [ 22.       5.88     3.52   484.     129.36    77.44    34.5744  20.6976\n",
      "   12.3904]]\n",
      "(42, 9)\n"
     ]
    }
   ],
   "source": [
    "poly = PolynomialFeatures(include_bias=False)\n",
    "poly.fit(train_input)\n",
    "train_poly = poly.transform(train_input)\n",
    "print(train_poly[:2])\n",
    "print(train_poly.shape)"
   ]
  },
  {
   "cell_type": "code",
   "execution_count": 34,
   "id": "33f81c00-1f18-41d0-bf62-365c2a9d3ebd",
   "metadata": {},
   "outputs": [
    {
     "data": {
      "text/plain": [
       "['x0', 'x1', 'x2', 'x0^2', 'x0 x1', 'x0 x2', 'x1^2', 'x1 x2', 'x2^2']"
      ]
     },
     "execution_count": 34,
     "metadata": {},
     "output_type": "execute_result"
    }
   ],
   "source": [
    "poly.get_feature_names()"
   ]
  },
  {
   "cell_type": "code",
   "execution_count": 35,
   "id": "a8391bbb-861a-4069-84eb-fd4b957b17dc",
   "metadata": {},
   "outputs": [],
   "source": [
    "test_poly = poly.transform(test_input)"
   ]
  },
  {
   "cell_type": "markdown",
   "id": "c32573f2-14e6-4fd5-b6d1-891aed3a74fa",
   "metadata": {},
   "source": [
    "# 다중 회귀 모델 훈련하기"
   ]
  },
  {
   "cell_type": "code",
   "execution_count": 37,
   "id": "3854dbea-6a5c-48ca-b894-c07240b4772b",
   "metadata": {},
   "outputs": [
    {
     "data": {
      "text/plain": [
       "LinearRegression()"
      ]
     },
     "execution_count": 37,
     "metadata": {},
     "output_type": "execute_result"
    }
   ],
   "source": [
    "from sklearn.linear_model import LinearRegression\n",
    "lr = LinearRegression()\n",
    "lr.fit(train_poly, train_target)"
   ]
  },
  {
   "cell_type": "code",
   "execution_count": 41,
   "id": "2d4855f3-bad4-411d-b596-ffd1a26b010f",
   "metadata": {},
   "outputs": [
    {
     "name": "stdout",
     "output_type": "stream",
     "text": [
      "0.9903183436982125\n"
     ]
    }
   ],
   "source": [
    "print(lr.score(train_poly, train_target))"
   ]
  },
  {
   "cell_type": "code",
   "execution_count": 40,
   "id": "06c522f9-542e-419b-ac02-33dd0a8fcfb1",
   "metadata": {},
   "outputs": [
    {
     "name": "stdout",
     "output_type": "stream",
     "text": [
      "0.9714559911594155\n"
     ]
    }
   ],
   "source": [
    "print(lr.score(test_poly, test_target))"
   ]
  },
  {
   "cell_type": "markdown",
   "id": "418f2784-7dea-4ea9-9045-3dfba5986630",
   "metadata": {},
   "source": [
    "# 다음\n",
    "  \n",
    "테스트 셋의 점수는 높아지지않았지만 과소적합 문제는 해결되었다.  \n",
    "여기에서 특성을 조금 더 추가해보자."
   ]
  },
  {
   "cell_type": "code",
   "execution_count": 44,
   "id": "78193f13-5f1c-4dfe-b18f-a208993b541c",
   "metadata": {},
   "outputs": [
    {
     "name": "stdout",
     "output_type": "stream",
     "text": [
      "(42, 55)\n"
     ]
    }
   ],
   "source": [
    "poly = PolynomialFeatures(degree=5, include_bias=False)\n",
    "poly.fit(train_input)\n",
    "train_poly = poly.transform(train_input)\n",
    "test_poly = poly.transform(test_input)\n",
    "print(train_poly.shape)"
   ]
  },
  {
   "cell_type": "code",
   "execution_count": 46,
   "id": "6a8fe3a3-d86b-417d-8cfe-f47d64118cd4",
   "metadata": {},
   "outputs": [
    {
     "name": "stdout",
     "output_type": "stream",
     "text": [
      "0.9999999999938143\n"
     ]
    }
   ],
   "source": [
    "lr.fit(train_poly, train_target)\n",
    "print(lr.score(train_poly, train_target))"
   ]
  },
  {
   "cell_type": "code",
   "execution_count": 47,
   "id": "2115afb1-1390-453b-94f1-45d03c616cfa",
   "metadata": {},
   "outputs": [
    {
     "name": "stdout",
     "output_type": "stream",
     "text": [
      "-144.40744533753661\n"
     ]
    }
   ],
   "source": [
    "print(lr.score(test_poly, test_target))"
   ]
  },
  {
   "cell_type": "markdown",
   "id": "f90283f0-a9f8-4f9c-a3e0-d13198648a5a",
   "metadata": {},
   "source": [
    "특성의 개수를 늘려 선형모델이 강력해졌고 훈련세트에 너무 과대적합되어 테스트셋에서는 성능이 나오지않는다."
   ]
  },
  {
   "cell_type": "markdown",
   "id": "6707397a-9ba2-4a70-82eb-694f9a5b4085",
   "metadata": {},
   "source": [
    "# 규제\n",
    "\n",
    "규제(regularization)는 머신러닝 모델이 훈련세트를 너무 과도하게 학습하지 못하도록 훼방하는 것을 말한다. 즉 모델이 훈련 세트에 과대적합되지않게 하기 위함이다.\n",
    "선형 회귀 모델이 경우 특성에 곱해지는 계수(또는 기울기)이 크기를 작게 만드는 일이다."
   ]
  },
  {
   "cell_type": "markdown",
   "id": "f9bb1b0f-e2a2-4b53-8045-dcb5da53607d",
   "metadata": {},
   "source": [
    "---\n",
    "하지만 이 전에 특성의 스케일을 생각해야된다. -- 2장의 내용  \n",
    "사이킷런의 StandardScaler 클래스를 사용해 스케일을 맞춘다."
   ]
  },
  {
   "cell_type": "code",
   "execution_count": 49,
   "id": "306006d3-30c4-4a44-8914-583edb9769b7",
   "metadata": {},
   "outputs": [],
   "source": [
    "from sklearn.preprocessing import StandardScaler"
   ]
  },
  {
   "cell_type": "code",
   "execution_count": 54,
   "id": "2815b67a-ef50-48dc-beaa-315a4b343a58",
   "metadata": {},
   "outputs": [],
   "source": [
    "ss = StandardScaler()\n",
    "ss.fit(train_poly)\n",
    "train_scaled = ss.transform(train_poly)\n",
    "test_scaled = ss.transform(test_poly)"
   ]
  },
  {
   "cell_type": "markdown",
   "id": "e52d70a9-88d0-4053-ad0b-a07ad25fbd6e",
   "metadata": {},
   "source": [
    "이렇게 선형 회귀 모델에 규제를 추가한 모델을 릿지(ridge)오 라쏘(lasso)라고 부른다.  \n",
    "두 모델을 규제를 가하는 방법이 다르다.  \n",
    "* 릿지 : 계수를 제곱한 값을 기준으로 규제를 적용\n",
    "* 라쏘 : 계수의 절대값을 기준으로 규제를 적용"
   ]
  },
  {
   "cell_type": "markdown",
   "id": "c556b241-127a-4bfd-b2f8-b718078fa8e1",
   "metadata": {},
   "source": [
    "# 릿지 회귀"
   ]
  },
  {
   "cell_type": "code",
   "execution_count": 59,
   "id": "58403809-b153-4191-b513-d68930dfd5e6",
   "metadata": {},
   "outputs": [
    {
     "data": {
      "text/plain": [
       "Ridge()"
      ]
     },
     "execution_count": 59,
     "metadata": {},
     "output_type": "execute_result"
    }
   ],
   "source": [
    "from sklearn.linear_model import Ridge\n",
    "\n",
    "ridge = Ridge()\n",
    "ridge.fit(train_scaled, train_target)"
   ]
  },
  {
   "cell_type": "code",
   "execution_count": 60,
   "id": "9459b73b-c8a1-4b80-aa69-d0cb2708f92c",
   "metadata": {},
   "outputs": [
    {
     "name": "stdout",
     "output_type": "stream",
     "text": [
      "0.979069397761539\n"
     ]
    }
   ],
   "source": [
    "print(ridge.score(test_scaled, test_target))"
   ]
  },
  {
   "cell_type": "markdown",
   "id": "59c3708d-9074-4eb0-95ab-4bf04b29c462",
   "metadata": {},
   "source": [
    "이렇게 많은 특성을 사용했지만 과대적합되지 않아 테스트 세트에서도 좋은 성능을 내고있다."
   ]
  },
  {
   "cell_type": "code",
   "execution_count": null,
   "id": "eb526ba3-2674-42db-9a15-47523469ea41",
   "metadata": {},
   "outputs": [],
   "source": [
    "import  matplotlib.pyplot as plt\n",
    "train_score = []\n",
    "test_score = []"
   ]
  }
 ],
 "metadata": {
  "kernelspec": {
   "display_name": "Python 3 (ipykernel)",
   "language": "python",
   "name": "python3"
  },
  "language_info": {
   "codemirror_mode": {
    "name": "ipython",
    "version": 3
   },
   "file_extension": ".py",
   "mimetype": "text/x-python",
   "name": "python",
   "nbconvert_exporter": "python",
   "pygments_lexer": "ipython3",
   "version": "3.9.7"
  }
 },
 "nbformat": 4,
 "nbformat_minor": 5
}
