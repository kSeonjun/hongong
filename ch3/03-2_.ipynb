{
 "cells": [
  {
   "cell_type": "markdown",
   "id": "b194e2b3-629c-4e51-8e28-0b1ce7a35d53",
   "metadata": {},
   "source": [
    "# 선형회귀\n",
    "\n",
    "50m, 1.5kg의 농어 데이터 사용하기"
   ]
  },
  {
   "cell_type": "code",
   "execution_count": 5,
   "id": "1d2ef863-9b46-43c0-965b-be903120165e",
   "metadata": {},
   "outputs": [],
   "source": [
    "import numpy as np\n",
    "import matplotlib.pyplot as plt\n",
    "from sklearn.model_selection import train_test_split\n",
    "\n",
    "perch_length = np.array([8.4, 13.7, 15.0, 16.2, 17.4, 18.0, 18.7, 19.0, 19.6, 20.0, 21.0,\n",
    "                         21.0, 21.0, 21.3, 22.0, 22.0, 22.0, 22.0, 22.0, 22.5, 22.5, 22.7,\n",
    "                         23.0, 23.5, 24.0, 24.0, 24.6, 25.0, 25.6, 26.5, 27.3, 27.5, 27.5,\n",
    "                         27.5, 28.0, 28.7, 30.0, 32.8, 34.5, 35.0, 36.5, 36.0, 37.0, 37.0,\n",
    "                         39.0, 39.0, 39.0, 40.0, 40.0, 40.0, 40.0, 42.0, 43.0, 43.0, 43.5,\n",
    "                         44.0])\n",
    "\n",
    "perch_weight = np.array([5.9, 32.0, 40.0, 51.5, 70.0, 100.0, 78.0, 80.0, 85.0, 85.0, 110.0,\n",
    "                         115.0, 125.0, 130.0, 120.0, 120.0, 130.0, 135.0, 110.0, 130.0,\n",
    "                         150.0, 145.0, 150.0, 170.0, 225.0, 145.0, 188.0, 180.0, 197.0,\n",
    "                         218.0, 300.0, 260.0, 265.0, 250.0, 250.0, 300.0, 320.0, 514.0,\n",
    "                         556.0, 840.0, 685.0, 700.0, 700.0, 690.0, 900.0, 650.0, 820.0,\n",
    "                         850.0, 900.0, 1015.0, 820.0, 1100.0, 1000.0, 1100.0, 1000.0,\n",
    "                         1000.0])"
   ]
  },
  {
   "cell_type": "code",
   "execution_count": 6,
   "id": "e6a0022f-7e4a-45c8-a851-f9da1e7d868f",
   "metadata": {},
   "outputs": [],
   "source": [
    "train_input, test_input, train_target, test_target = train_test_split(perch_length, perch_weight, random_state=42)\n",
    "\n",
    "train_input = train_input.reshape(-1, 1)\n",
    "test_input = test_input.reshape(-1, 1)"
   ]
  },
  {
   "cell_type": "code",
   "execution_count": 7,
   "id": "5d0dfb3f-590f-4a55-8119-242b995317fe",
   "metadata": {},
   "outputs": [
    {
     "data": {
      "text/plain": [
       "KNeighborsRegressor(n_neighbors=3)"
      ]
     },
     "execution_count": 7,
     "metadata": {},
     "output_type": "execute_result"
    }
   ],
   "source": [
    "from sklearn.neighbors import KNeighborsRegressor\n",
    "\n",
    "knr = KNeighborsRegressor(n_neighbors=3)\n",
    "\n",
    "knr.fit(train_input, train_target)"
   ]
  },
  {
   "cell_type": "code",
   "execution_count": 8,
   "id": "4169a21f-9dd4-4b32-ad8c-b83a9fadd1ce",
   "metadata": {},
   "outputs": [
    {
     "name": "stdout",
     "output_type": "stream",
     "text": [
      "[1033.33333333]\n"
     ]
    }
   ],
   "source": [
    "print(knr.predict([[50]]))"
   ]
  },
  {
   "cell_type": "code",
   "execution_count": 9,
   "id": "21ac67a9-d33a-43f1-b5d6-82e153a63376",
   "metadata": {},
   "outputs": [
    {
     "data": {
      "image/png": "[encoded data removed]",
      "text/plain": [
       "<Figure size 432x288 with 1 Axes>"
      ]
     },
     "metadata": {
      "needs_background": "light"
     },
     "output_type": "display_data"
    },
    {
     "name": "stdout",
     "output_type": "stream",
     "text": [
      "산점도를 보면 길이가 커질수록 무게가 증가하는 경향이 있지만, 50cm의 농어는 다른 결과가 나타났다.\n",
      "그 이유는 모델 k-neighbors에 있다.\n",
      "k-neighborsregression은 주변 k의 평균으로 결과를 구하기때문에\n",
      "길이 50cm 이상의 데이터가 없기때문에 50cm 이하의 데이터로만 예측했다.\n"
     ]
    }
   ],
   "source": [
    "import matplotlib.pyplot as plt\n",
    "\n",
    "# 50cm의 농어의 이웃 구하기\n",
    "distances, indexes = knr.kneighbors([[50]])\n",
    "\n",
    "# 훈련 세트의 선점도 그리기\n",
    "plt.scatter(train_input, train_target)\n",
    "\n",
    "# 훈련 세트 중에서 이웃 샘플만 그리기\n",
    "plt.scatter(train_input[indexes], train_target[indexes], marker='D')\n",
    "\n",
    "# 50cm농어 데이터 추가\n",
    "plt.scatter([50], knr.predict([[50]]), marker='^')\n",
    "\n",
    "plt.xlabel('length')\n",
    "plt.ylabel('weight')\n",
    "plt.show()\n",
    "\n",
    "print('산점도를 보면 길이가 커질수록 무게가 증가하는 경향이 있지만, 50cm의 농어는 다른 결과가 나타났다.')\n",
    "print('그 이유는 모델 k-neighbors에 있다.')\n",
    "print('k-neighborsregression은 주변 k의 평균으로 결과를 구하기때문에')\n",
    "print('길이 50cm 이상의 데이터가 없기때문에 50cm 이하의 데이터로만 예측했다.')"
   ]
  },
  {
   "cell_type": "code",
   "execution_count": 10,
   "id": "f49aac58-ba75-4190-814f-63495ef58d9f",
   "metadata": {},
   "outputs": [
    {
     "name": "stdout",
     "output_type": "stream",
     "text": [
      "k-neighborsRegression이 평균을 사용하지는 확인해보자\n",
      "평균:  1033.3333333333333 \n",
      "\n",
      "50cm 농어의 무게로 예측한 값이 평균과 같다는걸 증명했다.\n"
     ]
    }
   ],
   "source": [
    "# 검증\n",
    "print('k-neighborsRegression이 평균을 사용하지는 확인해보자')\n",
    "print('평균: ', np.mean(train_target[indexes]),'\\n') # train_target[indexes].mean()\n",
    "print('50cm 농어의 무게로 예측한 값이 평균과 같다는걸 증명했다.')"
   ]
  },
  {
   "cell_type": "code",
   "execution_count": 11,
   "id": "854cdc32-6ccb-4676-aa92-e25b38ab97fc",
   "metadata": {},
   "outputs": [
    {
     "name": "stdout",
     "output_type": "stream",
     "text": [
      "k-neighborsRegression이 평균을 사용하는걸 알았고,\n",
      "평균을 쓰기 때문에 생기는 문제점 증명\n",
      "길이 10000cm의 농어 무게 예측: [1033.33333333]\n"
     ]
    }
   ],
   "source": [
    "# 검증2\n",
    "print('k-neighborsRegression이 평균을 사용하는걸 알았고,')\n",
    "print('평균을 쓰기 때문에 생기는 문제점 증명')\n",
    "print('길이 10000cm의 농어 무게 예측:', knr.predict([[10000]]))"
   ]
  },
  {
   "cell_type": "code",
   "execution_count": 12,
   "id": "f89ebcac-84dc-4dc9-9fcd-9c34a03b041b",
   "metadata": {},
   "outputs": [
    {
     "data": {
      "image/png": "[encoded data removed]",
      "text/plain": [
       "<Figure size 432x288 with 1 Axes>"
      ]
     },
     "metadata": {
      "needs_background": "light"
     },
     "output_type": "display_data"
    },
    {
     "name": "stdout",
     "output_type": "stream",
     "text": [
      "농어의 길이와 관계없이 무게가 일정수치 이상 증가하지 않는다\n"
     ]
    }
   ],
   "source": [
    "# 10000cm의 농어의 이웃 구하기\n",
    "distances, indexes = knr.kneighbors([[100]])\n",
    "\n",
    "# 훈련 세트의 선점도 그리기\n",
    "plt.scatter(train_input, train_target)\n",
    "\n",
    "# 훈련 세트 중에서 이웃 샘플만 그리기\n",
    "plt.scatter(train_input[indexes], train_target[indexes], marker='D')\n",
    "\n",
    "# 50cm농어 데이터 추가\n",
    "plt.scatter([100], knr.predict([[100]]), marker='^')\n",
    "\n",
    "plt.xlabel('length')\n",
    "plt.ylabel('weight')\n",
    "plt.show()\n",
    "\n",
    "print('농어의 길이와 관계없이 무게가 일정수치 이상 증가하지 않는다')"
   ]
  },
  {
   "cell_type": "markdown",
   "id": "7610319a-742d-48f8-a7b9-47f66ce7d5f5",
   "metadata": {},
   "source": [
    "# Linear Regression(선형회귀)"
   ]
  },
  {
   "cell_type": "code",
   "execution_count": 13,
   "id": "d712fd9d-a07e-453e-97b0-aee3d4a41854",
   "metadata": {},
   "outputs": [],
   "source": [
    "from sklearn.linear_model import LinearRegression\n",
    "\n",
    "lr = LinearRegression()"
   ]
  },
  {
   "cell_type": "code",
   "execution_count": 14,
   "id": "62a8e994-6443-4141-91fd-26fe4359d56f",
   "metadata": {},
   "outputs": [
    {
     "name": "stdout",
     "output_type": "stream",
     "text": [
      "[1241.83860323]\n"
     ]
    }
   ],
   "source": [
    "lr.fit(train_input, train_target)\n",
    "\n",
    "print(lr.predict([[50]]))"
   ]
  },
  {
   "cell_type": "code",
   "execution_count": 15,
   "id": "7b5b50f8-b261-4893-b49c-4e0beb13ff6d",
   "metadata": {},
   "outputs": [
    {
     "name": "stdout",
     "output_type": "stream",
     "text": [
      "[39.01714496] -709.0186449535477\n"
     ]
    }
   ],
   "source": [
    "print(lr.coef_, lr.intercept_)"
   ]
  },
  {
   "cell_type": "code",
   "execution_count": 16,
   "id": "a8a5d9e3-5aad-42b3-980e-0f30111a374c",
   "metadata": {},
   "outputs": [
    {
     "data": {
      "image/png": "[encoded data removed]",
      "text/plain": [
       "<Figure size 432x288 with 1 Axes>"
      ]
     },
     "metadata": {
      "needs_background": "light"
     },
     "output_type": "display_data"
    }
   ],
   "source": [
    "# 훈련 세트의 산점도 그리기\n",
    "plt.scatter(train_input, train_target)\n",
    "\n",
    "# 15에서 50까지 1차 방정식 그래프 그리기\n",
    "plt.plot([15,50], [15*lr.coef_+lr.intercept_, 50*lr.coef_+lr.intercept_])\n",
    "\n",
    "# 50cm의 농어 데이터\n",
    "plt.scatter(50, lr.predict([[50]]), marker='^')\n",
    "plt.xlabel('length')\n",
    "plt.ylabel('weight')\n",
    "plt.show()"
   ]
  },
  {
   "cell_type": "code",
   "execution_count": 17,
   "id": "5d95526b-70a6-481c-b4f9-d79eaed6cfe2",
   "metadata": {},
   "outputs": [
    {
     "name": "stdout",
     "output_type": "stream",
     "text": [
      "0.939846333997604\n",
      "0.8247503123313558\n"
     ]
    }
   ],
   "source": [
    "print(lr.score(train_input, train_target))\n",
    "print(lr.score(test_input, test_target))"
   ]
  },
  {
   "cell_type": "markdown",
   "id": "880a5f8e-8b7a-4763-a7b2-2e32c25f3610",
   "metadata": {},
   "source": [
    "# 다항 회귀"
   ]
  },
  {
   "cell_type": "code",
   "execution_count": 18,
   "id": "8ae38847-97b2-4ef1-bfe3-dfc962b193c1",
   "metadata": {},
   "outputs": [],
   "source": [
    "train_poly = np.column_stack((train_input ** 2, train_input))\n",
    "test_poly = np.column_stack((test_input ** 2, test_input))"
   ]
  },
  {
   "cell_type": "code",
   "execution_count": 19,
   "id": "25f4080d-3bd1-4207-9e64-e8dcd3eb02c3",
   "metadata": {},
   "outputs": [
    {
     "name": "stdout",
     "output_type": "stream",
     "text": [
      "[1573.98423528]\n"
     ]
    }
   ],
   "source": [
    "lr = LinearRegression()\n",
    "lr.fit(train_poly, train_target)\n",
    "\n",
    "print(lr.predict([[50**2, 50]]))"
   ]
  },
  {
   "cell_type": "code",
   "execution_count": 20,
   "id": "b13617f8-83a0-473b-8a43-f6fc275338ce",
   "metadata": {},
   "outputs": [
    {
     "name": "stdout",
     "output_type": "stream",
     "text": [
      "[  1.01433211 -21.55792498] 116.05021078278259\n"
     ]
    }
   ],
   "source": [
    "print(lr.coef_, lr.intercept_)"
   ]
  },
  {
   "cell_type": "code",
   "execution_count": 29,
   "id": "37b2011b-f85b-49e0-bef3-65b607cabafa",
   "metadata": {},
   "outputs": [
    {
     "data": {
      "text/plain": [
       "[<matplotlib.lines.Line2D at 0x7fe155d29d00>]"
      ]
     },
     "execution_count": 29,
     "metadata": {},
     "output_type": "execute_result"
    },
    {
     "data": {
      "image/png": "[encoded data removed]",
      "text/plain": [
       "<Figure size 432x288 with 1 Axes>"
      ]
     },
     "metadata": {
      "needs_background": "light"
     },
     "output_type": "display_data"
    }
   ],
   "source": [
    "point = np.arange(15, 50)\n",
    "\n",
    "# train set 산점도\n",
    "plt.scatter(train_input, train_target)\n",
    "\n",
    "# 15에서 49까지 2차 방정식 그래프 그리기\n",
    "plt.plot(point, lr.coef_[0]*point**2 + lr.coef_[1]*point + lr.intercept_)"
   ]
  },
  {
   "cell_type": "code",
   "execution_count": null,
   "id": "b29a6b33-5a29-40c3-ac91-ee80736a3f22",
   "metadata": {},
   "outputs": [],
   "source": []
  }
 ],
 "metadata": {
  "kernelspec": {
   "display_name": "Python 3 (ipykernel)",
   "language": "python",
   "name": "python3"
  },
  "language_info": {
   "codemirror_mode": {
    "name": "ipython",
    "version": 3
   },
   "file_extension": ".py",
   "mimetype": "text/x-python",
   "name": "python",
   "nbconvert_exporter": "python",
   "pygments_lexer": "ipython3",
   "version": "3.9.7"
  }
 },
 "nbformat": 4,
 "nbformat_minor": 5
}
