{
 "cells": [
  {
   "cell_type": "code",
   "execution_count": 2,
   "id": "147cfbb9-cc81-4f57-922a-1352b04c7d3e",
   "metadata": {},
   "outputs": [],
   "source": [
    "from tensorflow import keras\n",
    "from sklearn.model_selection import train_test_split"
   ]
  },
  {
   "cell_type": "markdown",
   "id": "b583b84d-e533-4da5-9c67-8db72626441f",
   "metadata": {},
   "source": [
    "### Preprocessing"
   ]
  },
  {
   "cell_type": "code",
   "execution_count": 67,
   "id": "b44e3159-11c1-4b0a-891c-08125dceab22",
   "metadata": {},
   "outputs": [],
   "source": [
    "(train_input, train_target), (test_input, test_target) = keras.datasets.fashion_mnist.load_data()\n",
    "train_scaled = train_input/255.0\n",
    "train_scaled, val_scaled, train_target, val_target = train_test_split(train_scaled, train_target)"
   ]
  },
  {
   "cell_type": "code",
   "execution_count": 73,
   "id": "3b192079-f59a-4759-bb10-2ed77b240f51",
   "metadata": {},
   "outputs": [
    {
     "name": "stdout",
     "output_type": "stream",
     "text": [
      "10000\n"
     ]
    }
   ],
   "source": [
    "print(len(test_input))"
   ]
  },
  {
   "cell_type": "markdown",
   "id": "138576e9-a0e8-4f18-a8e9-795f8f9ccf31",
   "metadata": {},
   "source": [
    "### Define model"
   ]
  },
  {
   "cell_type": "code",
   "execution_count": 8,
   "id": "12049afb-0e0f-4911-94a3-37705be85e5c",
   "metadata": {},
   "outputs": [],
   "source": [
    "def model_fn(a_layer=None):\n",
    "    model = keras.Sequential()\n",
    "    model.add(keras.layers.Flatten(input_shape=(28, 28)))\n",
    "    model.add(keras.layers.Dense(100, activation='relu'))\n",
    "    \n",
    "    if a_layer:\n",
    "        model.add(a_layer)\n",
    "    \n",
    "    model.add(keras.layers.Dense(10, activation='softmax'))\n",
    "    \n",
    "    return model"
   ]
  },
  {
   "cell_type": "code",
   "execution_count": 25,
   "id": "3de05c34-c649-4f36-a12e-942d0c739305",
   "metadata": {},
   "outputs": [
    {
     "name": "stdout",
     "output_type": "stream",
     "text": [
      "Model: \"sequential_1\"\n",
      "_________________________________________________________________\n",
      " Layer (type)                Output Shape              Param #   \n",
      "=================================================================\n",
      " flatten_1 (Flatten)         (None, 784)               0         \n",
      "                                                                 \n",
      " dense_2 (Dense)             (None, 100)               78500     \n",
      "                                                                 \n",
      " dense_3 (Dense)             (None, 10)                1010      \n",
      "                                                                 \n",
      "=================================================================\n",
      "Total params: 79510 (310.59 KB)\n",
      "Trainable params: 79510 (310.59 KB)\n",
      "Non-trainable params: 0 (0.00 Byte)\n",
      "_________________________________________________________________\n"
     ]
    }
   ],
   "source": [
    "model = model_fn()\n",
    "model.summary()"
   ]
  },
  {
   "cell_type": "code",
   "execution_count": 26,
   "id": "846775f9-c216-4640-9013-b9c28819afdd",
   "metadata": {},
   "outputs": [],
   "source": [
    "model.compile(loss='sparse_categorical_crossentropy', metrics='accuracy')\n",
    "history = model.fit(train_scaled, train_target, epochs=5, verbose=0)"
   ]
  },
  {
   "cell_type": "code",
   "execution_count": 27,
   "id": "ea62b73f-c123-4552-a1f8-c29c65f70a74",
   "metadata": {},
   "outputs": [
    {
     "data": {
      "text/plain": [
       "<keras.src.callbacks.History at 0x7fb1aac41eb0>"
      ]
     },
     "execution_count": 27,
     "metadata": {},
     "output_type": "execute_result"
    }
   ],
   "source": [
    "history"
   ]
  },
  {
   "cell_type": "code",
   "execution_count": 28,
   "id": "acd6d36f-0a80-484a-b8e5-cfbf43d11923",
   "metadata": {},
   "outputs": [
    {
     "data": {
      "text/plain": [
       "dict_keys(['loss', 'accuracy'])"
      ]
     },
     "execution_count": 28,
     "metadata": {},
     "output_type": "execute_result"
    }
   ],
   "source": [
    "history.history.keys()"
   ]
  },
  {
   "cell_type": "code",
   "execution_count": 29,
   "id": "2bb3b47d-3d18-4a75-b70d-6c40a81ccf50",
   "metadata": {},
   "outputs": [
    {
     "data": {
      "image/png": "[encoded data removed]",
      "text/plain": [
       "<Figure size 432x288 with 1 Axes>"
      ]
     },
     "metadata": {
      "needs_background": "light"
     },
     "output_type": "display_data"
    }
   ],
   "source": [
    "import matplotlib.pyplot as plt\n",
    "\n",
    "plt.plot(history.history['loss'])\n",
    "plt.xlabel('epoch')\n",
    "plt.ylabel('loss')\n",
    "plt.show()"
   ]
  },
  {
   "cell_type": "code",
   "execution_count": 30,
   "id": "e51b6fce-fe92-46f5-b14f-5f5ef3bc9826",
   "metadata": {},
   "outputs": [
    {
     "data": {
      "image/png": "[encoded data removed]",
      "text/plain": [
       "<Figure size 432x288 with 1 Axes>"
      ]
     },
     "metadata": {
      "needs_background": "light"
     },
     "output_type": "display_data"
    }
   ],
   "source": [
    "plt.plot(history.history['accuracy'])\n",
    "plt.xlabel('epoch')\n",
    "plt.ylabel('accuracy')\n",
    "plt.show()"
   ]
  },
  {
   "cell_type": "markdown",
   "id": "f32bacca-63fa-4689-add2-32f2b36adb12",
   "metadata": {},
   "source": [
    "* epoch이 늘어날수록 loss가 감소하고 accuracy가 증가했다.\n",
    "* 그렇다면 epoch을 5가 아닌 20으로 한다면?"
   ]
  },
  {
   "cell_type": "markdown",
   "id": "bf54f680-66a9-453d-b49d-1aa6683f59f7",
   "metadata": {},
   "source": [
    "### epoch= 20"
   ]
  },
  {
   "cell_type": "code",
   "execution_count": 31,
   "id": "24d407b6-4eee-40be-a090-d6275f318d0d",
   "metadata": {},
   "outputs": [
    {
     "data": {
      "image/png": "[encoded data removed]",
      "text/plain": [
       "<Figure size 432x288 with 1 Axes>"
      ]
     },
     "metadata": {
      "needs_background": "light"
     },
     "output_type": "display_data"
    }
   ],
   "source": [
    "model = model_fn()\n",
    "model.compile(loss='sparse_categorical_crossentropy', metrics='accuracy')\n",
    "history = model.fit(train_scaled, train_target, epochs=20, verbose=0)\n",
    "\n",
    "plt.plot(history.history['loss'])\n",
    "plt.xlabel('epoch')\n",
    "plt.ylabel('loss')\n",
    "plt.show()"
   ]
  },
  {
   "cell_type": "markdown",
   "id": "1796b1c7-481b-4f7f-8123-20f801c7338c",
   "metadata": {},
   "source": [
    "### 검증 손실\n",
    "* train 학습 결과만으로는 성능을 평가하기 어렵다. 과대적합과 과소적합을 파악해야한다.\n",
    "* 따라서 validation의 결과도 확인해야하는데,\n",
    "* validation_data 매개변수를 사용한다."
   ]
  },
  {
   "cell_type": "code",
   "execution_count": 33,
   "id": "936d7060-14b0-4b7a-9829-3501e8f25475",
   "metadata": {},
   "outputs": [],
   "source": [
    "model = model_fn()\n",
    "model.compile(loss='sparse_categorical_crossentropy', metrics='accuracy')\n",
    "history = model.fit(train_scaled, train_target, epochs=20, verbose=0, validation_data=(val_scaled, val_target))"
   ]
  },
  {
   "cell_type": "code",
   "execution_count": 39,
   "id": "14168917-4ad7-4335-8160-56d66a69762f",
   "metadata": {},
   "outputs": [
    {
     "name": "stdout",
     "output_type": "stream",
     "text": [
      "dict_keys(['loss', 'accuracy', 'val_loss', 'val_accuracy'])\n"
     ]
    }
   ],
   "source": [
    "print(history.history.keys())"
   ]
  },
  {
   "cell_type": "code",
   "execution_count": 41,
   "id": "476eddb3-02de-48cb-b2a3-52aad3e05886",
   "metadata": {},
   "outputs": [
    {
     "data": {
      "image/png": "[encoded data removed]",
      "text/plain": [
       "<Figure size 432x288 with 1 Axes>"
      ]
     },
     "metadata": {
      "needs_background": "light"
     },
     "output_type": "display_data"
    }
   ],
   "source": [
    "plt.plot(history.history['loss'])\n",
    "plt.plot(history.history['val_loss'])\n",
    "plt.xlabel('epoch')\n",
    "plt.ylabel('loss')\n",
    "plt.legend(['train', 'val'])\n",
    "plt.show()"
   ]
  },
  {
   "cell_type": "markdown",
   "id": "3c65d7c8-44b5-4158-b660-2e2086ab50df",
   "metadata": {},
   "source": [
    "* 초기에 검증손실이 감소하다가 다섯 번째 epoch부터 다시 상승하기 시작.\n",
    "* 훈련손실은 꾸준히 감소하기 때문에 전형적인 과대적합 모델이 만들어졌다."
   ]
  },
  {
   "cell_type": "markdown",
   "id": "dff6807c-e938-4818-8f1b-743313171a79",
   "metadata": {},
   "source": [
    "### 과대적합 방지\n",
    "\n",
    "* 3장의 '규제방식' 대신 '옵티마이저 하이퍼파라미터 조정'하기\n",
    "\n",
    "* Adam은 적응적 학습률을 사용하기 때문에 epoch이 진행되면서 학습률의 크기를 조정할 수 있다.\n",
    "* 먼저 Adam을 사용해 그래프 그려보기"
   ]
  },
  {
   "cell_type": "code",
   "execution_count": 45,
   "id": "fc8aa924-6e73-4d23-8f94-ee9f43192ca3",
   "metadata": {},
   "outputs": [
    {
     "data": {
      "image/png": "[encoded data removed]",
      "text/plain": [
       "<Figure size 432x288 with 1 Axes>"
      ]
     },
     "metadata": {
      "needs_background": "light"
     },
     "output_type": "display_data"
    }
   ],
   "source": [
    "model = model_fn()\n",
    "model.compile(optimizer='adam', loss='sparse_categorical_crossentropy', metrics='accuracy')\n",
    "history = model.fit(train_scaled, train_target, epochs=20, verbose=0, validation_data=(val_scaled, val_target))\n",
    "\n",
    "plt.plot(history.history['loss'])\n",
    "plt.plot(history.history['val_loss'])\n",
    "plt.xlabel('epoch')\n",
    "plt.ylabel('loss')\n",
    "plt.legend(['train', 'val'])\n",
    "plt.show()"
   ]
  },
  {
   "cell_type": "markdown",
   "id": "3fe79470-1e82-40ba-b729-605100717e42",
   "metadata": {
    "tags": []
   },
   "source": [
    "# dropout"
   ]
  },
  {
   "cell_type": "code",
   "execution_count": 50,
   "id": "80e94775-6501-45ff-ac87-a25bf3c29038",
   "metadata": {},
   "outputs": [
    {
     "name": "stdout",
     "output_type": "stream",
     "text": [
      "Model: \"sequential_10\"\n",
      "_________________________________________________________________\n",
      " Layer (type)                Output Shape              Param #   \n",
      "=================================================================\n",
      " flatten_10 (Flatten)        (None, 784)               0         \n",
      "                                                                 \n",
      " dense_20 (Dense)            (None, 100)               78500     \n",
      "                                                                 \n",
      " dropout_1 (Dropout)         (None, 100)               0         \n",
      "                                                                 \n",
      " dense_21 (Dense)            (None, 10)                1010      \n",
      "                                                                 \n",
      "=================================================================\n",
      "Total params: 79510 (310.59 KB)\n",
      "Trainable params: 79510 (310.59 KB)\n",
      "Non-trainable params: 0 (0.00 Byte)\n",
      "_________________________________________________________________\n"
     ]
    }
   ],
   "source": [
    "model = model_fn(keras.layers.Dropout(0.3))\n",
    "model.summary()"
   ]
  },
  {
   "cell_type": "code",
   "execution_count": 51,
   "id": "9b80b346-424e-4ecf-8d30-32e2258b645a",
   "metadata": {},
   "outputs": [
    {
     "data": {
      "image/png": "[encoded data removed]",
      "text/plain": [
       "<Figure size 432x288 with 1 Axes>"
      ]
     },
     "metadata": {
      "needs_background": "light"
     },
     "output_type": "display_data"
    }
   ],
   "source": [
    "model.compile(optimizer='adam', loss='sparse_categorical_crossentropy', metrics='accuracy')\n",
    "history = model.fit(train_scaled, train_target, epochs=20, verbose=0, validation_data=(val_scaled, val_target))\n",
    "\n",
    "plt.plot(history.history['loss'])\n",
    "plt.plot(history.history['val_loss'])\n",
    "plt.xlabel('epoch')\n",
    "plt.ylabel('loss')\n",
    "plt.legend(['train', 'val'])\n",
    "plt.show()"
   ]
  },
  {
   "cell_type": "markdown",
   "id": "491eb618-ce35-49dc-bd57-95a436841b26",
   "metadata": {
    "tags": []
   },
   "source": [
    "# 모델 저장과 복원"
   ]
  },
  {
   "cell_type": "code",
   "execution_count": 53,
   "id": "052ada3d-2ce8-4346-869a-f217bca569f0",
   "metadata": {},
   "outputs": [],
   "source": [
    "model = model_fn(keras.layers.Dropout(0.3))\n",
    "model.compile(optimizer='adam', loss='sparse_categorical_crossentropy', metrics='accuracy')\n",
    "history = model.fit(train_scaled, train_target, epochs=10, verbose=0, validation_data=(val_scaled, val_target))"
   ]
  },
  {
   "cell_type": "code",
   "execution_count": 54,
   "id": "8ff76937-4404-49ac-9b90-afff2f5f6cdc",
   "metadata": {},
   "outputs": [
    {
     "name": "stderr",
     "output_type": "stream",
     "text": [
      "/Users/gimseonjun/anaconda3/lib/python3.9/site-packages/keras/src/engine/training.py:3000: UserWarning: You are saving your model as an HDF5 file via `model.save()`. This file format is considered legacy. We recommend using instead the native Keras format, e.g. `model.save('my_model.keras')`.\n",
      "  saving_api.save_model(\n"
     ]
    }
   ],
   "source": [
    "# 파라미터 저장\n",
    "model.save_weights('model-weights.h5')\n",
    "# 모델구조와 파라미터 함께 저장\n",
    "model.save('model-whole.h5')"
   ]
  },
  {
   "cell_type": "code",
   "execution_count": 57,
   "id": "da8370f7-cc01-422d-85e3-304b64af4fe7",
   "metadata": {},
   "outputs": [
    {
     "name": "stdout",
     "output_type": "stream",
     "text": [
      "-rw-r--r--  1 gimseonjun  staff  333448  8  7 17:40 model-weights.h5\n",
      "-rw-r--r--  1 gimseonjun  staff  981360  8  7 17:40 model-whole.h5\n"
     ]
    }
   ],
   "source": [
    "# 셀 명령어는 ! 사용\n",
    "!ls -al *.h5"
   ]
  },
  {
   "cell_type": "markdown",
   "id": "7858f4f5-a4d4-4d16-abc7-7649fb53dd5f",
   "metadata": {},
   "source": [
    "### 2가지 실험\n",
    "1. wight만 사용한 새로운 모델\n",
    "    * wight만 적재하기 위해서는 save_weights()메서드로 저장했던 모델과 정확히 같은 구조를 가저야한다.\n",
    "2. whole을 사용한 새로운 모델"
   ]
  },
  {
   "cell_type": "markdown",
   "id": "2ee8cf30-f0f5-45b9-89f4-2d7e19ce8f7f",
   "metadata": {},
   "source": [
    "### 실험1. 새로운 모델을 만들고 저장했던 모델 파라미터 적재"
   ]
  },
  {
   "cell_type": "code",
   "execution_count": 82,
   "id": "1259e802-85be-49f8-a8cd-44c18e36154d",
   "metadata": {},
   "outputs": [],
   "source": [
    "# 동일한 모델 구조를 만듦\n",
    "model = model_fn(keras.layers.Dropout(0.3))\n",
    "model.load_weights('model-weights.h5')"
   ]
  },
  {
   "cell_type": "code",
   "execution_count": 74,
   "id": "559d0ceb-8638-457f-bd01-a4c1468b7379",
   "metadata": {},
   "outputs": [
    {
     "name": "stdout",
     "output_type": "stream",
     "text": [
      "469/469 [==============================] - 1s 684us/step\n",
      "0.8952666666666667\n"
     ]
    }
   ],
   "source": [
    "import numpy as np\n",
    "\n",
    "val_labels = np.argmax(model.predict(val_scaled), axis=-1)\n",
    "print(np.mean(val_labels==val_target))"
   ]
  },
  {
   "cell_type": "markdown",
   "id": "b0c6ba33-aafb-4de0-a386-d526d7b3281a",
   "metadata": {},
   "source": [
    "### 실험2. 모델 전체를 파일에서 읽은 다음 검증세트의 정확도 출력"
   ]
  },
  {
   "cell_type": "code",
   "execution_count": 81,
   "id": "3b0f5cb7-c946-45b0-aff0-23ad966d3bfc",
   "metadata": {},
   "outputs": [
    {
     "name": "stdout",
     "output_type": "stream",
     "text": [
      "469/469 [==============================] - 1s 922us/step - loss: 0.2837 - accuracy: 0.8953\n"
     ]
    },
    {
     "data": {
      "text/plain": [
       "[0.2836901545524597, 0.8952666521072388]"
      ]
     },
     "execution_count": 81,
     "metadata": {},
     "output_type": "execute_result"
    }
   ],
   "source": [
    "model = keras.models.load_model('model-whole.h5')\n",
    "model.evaluate(val_scaled, val_target)"
   ]
  },
  {
   "cell_type": "markdown",
   "id": "e4998089-af3f-43e4-8b15-66c59661e6d8",
   "metadata": {},
   "source": [
    "### 결과\n",
    "\n",
    "같은 모델을 출력했기 때문에 동일한 성능이 나온다\n",
    "\n",
    "참고)<br>\n",
    "evaluate를 사용할 수 있는 이유 : 모델 구조와 옵티마이저 상태까지 모두 복원하기 때문."
   ]
  },
  {
   "cell_type": "markdown",
   "id": "405ec495-fd9e-43a3-aeee-a110697ab99d",
   "metadata": {},
   "source": [
    "# 콜백\n",
    "훈련 과정 중간에 어떤 작업을 수행할 수 있게 하는 객체로 keras.callbacks 패키지 아래에 있는 클래스"
   ]
  },
  {
   "cell_type": "code",
   "execution_count": 84,
   "id": "0a67db59-92b0-4ba9-9ec5-45f52dd5104a",
   "metadata": {},
   "outputs": [
    {
     "data": {
      "text/plain": [
       "<keras.src.callbacks.History at 0x7fb12c9fd340>"
      ]
     },
     "execution_count": 84,
     "metadata": {},
     "output_type": "execute_result"
    }
   ],
   "source": [
    "model = model_fn(keras.layers.Dropout(0.3))\n",
    "model.compile(optimizer='adam', loss='sparse_categorical_crossentropy', metrics='accuracy')\n",
    "checkpoint_cb = keras.callbacks.ModelCheckpoint('best-model.h5')\n",
    "model.fit(train_scaled, train_target, epochs=20, verbose=0,\n",
    "          validation_data=(val_scaled, val_target), callbacks=[checkpoint_cb])"
   ]
  },
  {
   "cell_type": "code",
   "execution_count": 85,
   "id": "1d9d9581-c9b3-4b92-9494-59381712eecf",
   "metadata": {},
   "outputs": [
    {
     "name": "stdout",
     "output_type": "stream",
     "text": [
      "469/469 [==============================] - 0s 858us/step - loss: 0.3161 - accuracy: 0.8893\n"
     ]
    },
    {
     "data": {
      "text/plain": [
       "[0.31612521409988403, 0.8892666697502136]"
      ]
     },
     "execution_count": 85,
     "metadata": {},
     "output_type": "execute_result"
    }
   ],
   "source": [
    "model = keras.models.load_model('best-model.h5')\n",
    "model.evaluate(val_scaled, val_target)"
   ]
  },
  {
   "cell_type": "code",
   "execution_count": 86,
   "id": "7fb84937-2417-4422-a0aa-c198b6b0249e",
   "metadata": {},
   "outputs": [],
   "source": [
    "# early stop 사용\n",
    "# patience / restore_best_weights\n",
    "\n",
    "model = model_fn(keras.layers.Dropout(0.3))\n",
    "model.compile(optimizer='adam', loss='sparse_categorical_crossentropy', metrics='accuracy')\n",
    "checkpoint_cb = keras.callbacks.ModelCheckpoint('best-model.h5')\n",
    "early_stopping_cb = keras.callbacks.EarlyStopping(patience=2, restore_best_weights=True)\n",
    "history = model.fit(train_scaled, train_target, epochs=20, verbose=0,\n",
    "          validation_data=(val_scaled, val_target), callbacks=[checkpoint_cb, early_stopping_cb])"
   ]
  },
  {
   "cell_type": "code",
   "execution_count": 91,
   "id": "c5f72772-4d83-4833-96a3-78105db58e0f",
   "metadata": {},
   "outputs": [
    {
     "data": {
      "text/plain": [
       "15"
      ]
     },
     "execution_count": 91,
     "metadata": {},
     "output_type": "execute_result"
    }
   ],
   "source": [
    "early_stopping_cb.stopped_epoch"
   ]
  },
  {
   "cell_type": "code",
   "execution_count": 92,
   "id": "5879fa05-cafc-4baf-8d24-6d1b6665f37c",
   "metadata": {},
   "outputs": [
    {
     "data": {
      "image/png": "[encoded data removed]",
      "text/plain": [
       "<Figure size 432x288 with 1 Axes>"
      ]
     },
     "metadata": {
      "needs_background": "light"
     },
     "output_type": "display_data"
    }
   ],
   "source": [
    "plt.plot(history.history['loss'])\n",
    "plt.plot(history.history['val_loss'])\n",
    "plt.xlabel('epoch')\n",
    "plt.ylabel('loss')\n",
    "plt.legend(['train', 'val'])\n",
    "plt.show()"
   ]
  },
  {
   "cell_type": "markdown",
   "id": "4cfa2ba7-6c1f-46bb-b6c4-0588fbbf06bd",
   "metadata": {},
   "source": [
    "### 결과\n",
    "\n",
    "epoch15에서 멈춘 모델의 그래프를 살펴봤을때, epoch 13에서 가장 낮은 loss가 나타났다."
   ]
  }
 ],
 "metadata": {
  "kernelspec": {
   "display_name": "Python 3 (ipykernel)",
   "language": "python",
   "name": "python3"
  },
  "language_info": {
   "codemirror_mode": {
    "name": "ipython",
    "version": 3
   },
   "file_extension": ".py",
   "mimetype": "text/x-python",
   "name": "python",
   "nbconvert_exporter": "python",
   "pygments_lexer": "ipython3",
   "version": "3.9.7"
  }
 },
 "nbformat": 4,
 "nbformat_minor": 5
}
